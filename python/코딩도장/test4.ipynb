{
 "metadata": {
  "language_info": {
   "codemirror_mode": {
    "name": "ipython",
    "version": 3
   },
   "file_extension": ".py",
   "mimetype": "text/x-python",
   "name": "python",
   "nbconvert_exporter": "python",
   "pygments_lexer": "ipython3",
   "version": "3.8.5"
  },
  "orig_nbformat": 2,
  "kernelspec": {
   "name": "python385jvsc74a57bd0c81169c30fb96244cfba0db287a0d3fd5325268de070a7a6116eecd4596df902",
   "display_name": "Python 3.8.5 64-bit ('base': conda)"
  }
 },
 "nbformat": 4,
 "nbformat_minor": 2,
 "cells": [
  {
   "source": [
    "### 23.7 지뢰  찾기"
   ],
   "cell_type": "markdown",
   "metadata": {}
  },
  {
   "source": [
    "1.표준 입력으로 2차원 리스트의 가로(col)와 세로(row)가 입력되고 그 다음 줄부터 리스트의 요소로 들어갈 문자가 입력됩니다. 이때 2차원 리스트 안에서 *는 지뢰이고 .은 지뢰가 아닙니다. 지뢰가 아닌 요소에는 인접한 지뢰의 개수를 출력하는 프로그램을 만드세요(input에서 안내 문자열은 출력하지 않아야 합니다).\n",
    "\n",
    "여러 줄을 입력 받으려면 다음과 같이 for 반복문에서 input을 호출한 뒤 append로 각 줄을 추가하면 됩니다(list 안에 문자열을 넣으면 문자열이 문자 리스트로 변환됩니다).\n",
    "\n",
    "matrix = []\n",
    "for i in range(row):\n",
    "    matrix.append(list(input()))\n",
    "이 문제는 지금까지 심사문제 중에서 가장 어렵습니다. 처음 풀어보는 경우 대략 두 시간은 걸립니다. 시간을 두고 천천히 고민해서 풀어보세요. 지금까지 학습한 내용을 모두 동원해야 풀 수 있으며 막힐 때는 지금까지 학습한 내용을 다시 복습하면서 힌트를 찾아보세요.\n",
    "\n",
    "judge_minesweeper.py\n",
    "________________\n",
    "________________\n",
    "________________\n",
    "________________\n",
    "________________\n",
    "________________\n",
    "________________\n",
    "________________\n",
    "________________\n",
    "________________\n",
    "________________\n",
    "________________\n",
    "________________\n",
    "________________\n",
    "________________\n",
    "________________\n",
    "________________\n",
    "________________\n",
    "________________\n",
    "________________\n",
    "________________\n",
    "\n",
    "\n",
    "참고. Unit 23.7 가로, 세로가 헷갈립니다!\n",
    "col이 가로, row가 세로인 이유가 궁금하세요? 다음 링크를 보세요!\n",
    "\n",
    "https://dojang.io/mod/forum/discuss.php?d=578\n",
    "예\n",
    "입력\n",
    "3 3\n",
    ".**\n",
    "*..\n",
    ".*.\n",
    "결과\n",
    "2**\n",
    "*43\n",
    "2*1\n",
    "입력\n",
    "5 5\n",
    "..*..\n",
    "...*.\n",
    ".*...\n",
    ".***.\n",
    "*.*..\n",
    "결과\n",
    "01*21\n",
    "123*1\n",
    "2*532\n",
    "3***1\n",
    "*4*31"
   ],
   "cell_type": "markdown",
   "metadata": {}
  },
  {
   "cell_type": "code",
   "execution_count": 74,
   "metadata": {},
   "outputs": [
    {
     "output_type": "error",
     "ename": "IndexError",
     "evalue": "list index out of range",
     "traceback": [
      "\u001b[1;31m---------------------------------------------------------------------------\u001b[0m",
      "\u001b[1;31mIndexError\u001b[0m                                Traceback (most recent call last)",
      "\u001b[1;32m<ipython-input-74-02cc194487b8>\u001b[0m in \u001b[0;36m<module>\u001b[1;34m\u001b[0m\n\u001b[0;32m     12\u001b[0m             \u001b[1;32mif\u001b[0m \u001b[0my\u001b[0m \u001b[1;33m<\u001b[0m \u001b[1;36m0\u001b[0m \u001b[1;32mor\u001b[0m \u001b[0mx\u001b[0m \u001b[1;33m<\u001b[0m \u001b[1;36m0\u001b[0m \u001b[1;32mor\u001b[0m \u001b[0my\u001b[0m \u001b[1;33m>=\u001b[0m \u001b[0mrow\u001b[0m \u001b[1;32mor\u001b[0m \u001b[0mx\u001b[0m \u001b[1;33m>=\u001b[0m \u001b[0mcol\u001b[0m\u001b[1;33m:\u001b[0m\u001b[1;33m\u001b[0m\u001b[1;33m\u001b[0m\u001b[0m\n\u001b[0;32m     13\u001b[0m               \u001b[1;32mcontinue\u001b[0m\u001b[1;33m\u001b[0m\u001b[1;33m\u001b[0m\u001b[0m\n\u001b[1;32m---> 14\u001b[1;33m             \u001b[1;32melif\u001b[0m \u001b[0mmatrix\u001b[0m\u001b[1;33m[\u001b[0m\u001b[0my\u001b[0m\u001b[1;33m]\u001b[0m\u001b[1;33m[\u001b[0m\u001b[0mx\u001b[0m\u001b[1;33m]\u001b[0m \u001b[1;33m==\u001b[0m \u001b[1;34m'*'\u001b[0m\u001b[1;33m:\u001b[0m\u001b[1;33m\u001b[0m\u001b[1;33m\u001b[0m\u001b[0m\n\u001b[0m\u001b[0;32m     15\u001b[0m               \u001b[0mmatrix\u001b[0m\u001b[1;33m[\u001b[0m\u001b[0mi\u001b[0m\u001b[1;33m]\u001b[0m\u001b[1;33m[\u001b[0m\u001b[0mj\u001b[0m\u001b[1;33m]\u001b[0m \u001b[1;33m+=\u001b[0m \u001b[1;36m1\u001b[0m\u001b[1;33m\u001b[0m\u001b[1;33m\u001b[0m\u001b[0m\n\u001b[0;32m     16\u001b[0m \u001b[1;33m\u001b[0m\u001b[0m\n",
      "\u001b[1;31mIndexError\u001b[0m: list index out of range"
     ]
    }
   ],
   "source": [
    "col, row = map(int, input().split())\n",
    "matrix = []\n",
    "for i in range(row):\n",
    "    matrix.append(list(input()))\n",
    "    for j in range(col):\n",
    "      if matrix[i][j] == '*':\n",
    "        continue\n",
    "      else:\n",
    "        matrix[i][j] = 0\n",
    "        for y in range(i - 1, i + 2):  \n",
    "          for x in range(j - 1 ,j + 2): \n",
    "            if y < 0 or x < 0 or y >= row or x >= col: \n",
    "              continue\n",
    "            elif matrix[y][x] == '*':\n",
    "              matrix[i][j] += 1\n",
    "\n",
    "for i in range(row):\n",
    "  for j in range(col):\n",
    "    print(matrix[i][j], end='')\n",
    "  print()"
   ]
  },
  {
   "source": [
    "# 연습문제"
   ],
   "cell_type": "markdown",
   "metadata": {}
  },
  {
   "cell_type": "code",
   "execution_count": 69,
   "metadata": {},
   "outputs": [
    {
     "output_type": "execute_result",
     "data": {
      "text/plain": [
       "[[0, 0, 1, 1], [0, 0, 1, 1], [0, 0, 0, 0], [0, 0, 0, 0]]"
      ]
     },
     "metadata": {},
     "execution_count": 69
    }
   ],
   "source": [
    " [[0 if random.random() < 0.7 else 1 for _ in range(4)]  for _ in range(4)]"
   ]
  },
  {
   "cell_type": "code",
   "execution_count": 60,
   "metadata": {},
   "outputs": [
    {
     "output_type": "execute_result",
     "data": {
      "text/plain": [
       "matrix([[0, 1, 0, 0],\n",
       "        [0, 1, 1, 0],\n",
       "        [0, 0, 0, 0],\n",
       "        [0, 0, 0, 0]])"
      ]
     },
     "metadata": {},
     "execution_count": 60
    }
   ],
   "source": [
    "import random\n",
    "import numpy as np\n",
    "\n",
    "x = [[0 if random.random() < 0.7 else 1 for _ in range(4)]  for _ in range(4)]\n",
    "f = np.matrix(x)\n",
    "f\n",
    "\n"
   ]
  },
  {
   "cell_type": "code",
   "execution_count": 42,
   "metadata": {},
   "outputs": [
    {
     "output_type": "execute_result",
     "data": {
      "text/plain": [
       "matrix([[0, 0, 1, 0],\n",
       "        [0, 0, 0, 0],\n",
       "        [0, 0, 0, 0],\n",
       "        [0, 0, 1, 1]])"
      ]
     },
     "metadata": {},
     "execution_count": 42
    }
   ],
   "source": [
    "import random\r\n",
    "\r\n",
    "x = [[0 if random.random() < 0.7 else 1 for _ in range(4)]  for _ in range(4)]\r\n",
    "f = np.matrix(x)\r\n",
    "f\n",
    "\n",
    "maclass GameBoard:\n",
    "def __init__(self, width, height, mine):\n",
    "    self.width = width\n",
    "    self.height = height\n",
    "    self.mine = mine"
   ]
  },
  {
   "cell_type": "code",
   "execution_count": null,
   "metadata": {},
   "outputs": [],
   "source": []
  },
  {
   "cell_type": "code",
   "execution_count": null,
   "metadata": {},
   "outputs": [],
   "source": [
    "import numpy as np\n",
    "x = [[0 if random.random() < 0.7 else 1 for _ in range(4)]  for _ in range(4)]\n",
    "size = np.matrix(x)\n",
    "data=[]\n",
    "\n"
   ]
  },
  {
   "cell_type": "code",
   "execution_count": 76,
   "metadata": {},
   "outputs": [],
   "source": [
    "# 하다가 포기 "
   ]
  },
  {
   "source": [
    "### 강사님이 해준것"
   ],
   "cell_type": "markdown",
   "metadata": {}
  },
  {
   "cell_type": "code",
   "execution_count": 79,
   "metadata": {},
   "outputs": [],
   "source": [
    "def print_matrix(m):\n",
    "    for i in range(len(m)):\n",
    "        for k in range(len(m)):\n",
    "            print(m[i][k], end=' ')\n",
    "        print()"
   ]
  },
  {
   "cell_type": "code",
   "execution_count": 80,
   "metadata": {},
   "outputs": [],
   "source": [
    "def m2p(m):\n",
    "    p = []\n",
    "    p.append([0]*(len(m)+2))\n",
    "    for row in m:\n",
    "        r = [0]\n",
    "        #for element in row:\n",
    "        #    r.append(element)\n",
    "        r.extend(row)\n",
    "        r.append(0)\n",
    "        p.append(r)\n",
    "    p.append([0]*(len(m)+2))\n",
    "    return p"
   ]
  },
  {
   "cell_type": "code",
   "execution_count": 81,
   "metadata": {},
   "outputs": [],
   "source": [
    "def count_mine(p, i, k):\n",
    "    if p[i][k] == 1:\n",
    "        return '*'\n",
    "    count = p[i-1][k-1] + p[i-1][k] + p[i-1][k+1] + \\\n",
    "            p[i][k-1] +               p[i][k+1] + \\\n",
    "            p[i+1][k-1] + p[i+1][k] + p[i+1][k+1]\n",
    "    return count"
   ]
  },
  {
   "cell_type": "code",
   "execution_count": 82,
   "metadata": {},
   "outputs": [
    {
     "output_type": "stream",
     "name": "stdout",
     "text": [
      "1 0 0 0 0 0 \n0 1 0 0 1 0 \n0 0 0 0 0 0 \n0 0 0 1 0 0 \n1 0 0 0 0 1 \n0 0 0 0 1 0 \n"
     ]
    }
   ],
   "source": [
    "\n",
    "import random\n",
    "mine_len = 6\n",
    "mine = [[0 if random.random() < 0.7 else 1 for _ in range(mine_len)]\n",
    "                                        for _ in range(mine_len)]\n",
    "print_matrix(mine)"
   ]
  },
  {
   "cell_type": "code",
   "execution_count": 83,
   "metadata": {},
   "outputs": [
    {
     "output_type": "stream",
     "name": "stdout",
     "text": [
      "0 0 0 0 0 0 0 0 \n0 1 0 0 0 0 0 0 \n0 0 1 0 0 1 0 0 \n0 0 0 0 0 0 0 0 \n0 0 0 0 1 0 0 0 \n0 1 0 0 0 0 1 0 \n0 0 0 0 0 1 0 0 \n0 0 0 0 0 0 0 0 \n"
     ]
    }
   ],
   "source": [
    "padding = m2p(mine)\n",
    "print_matrix(padding)"
   ]
  },
  {
   "cell_type": "code",
   "execution_count": 84,
   "metadata": {},
   "outputs": [],
   "source": [
    "answer = []\n",
    "for row in range(1, mine_len+1):\n",
    "    line = []\n",
    "    for col in range(1, mine_len+1):\n",
    "        line.append(count_mine(padding, row, col))\n",
    "    answer.append(line)"
   ]
  },
  {
   "cell_type": "code",
   "execution_count": 85,
   "metadata": {},
   "outputs": [
    {
     "output_type": "stream",
     "name": "stdout",
     "text": [
      "* 2 1 1 1 1 \n2 * 1 1 * 1 \n1 1 2 2 2 1 \n1 1 1 * 2 1 \n* 1 1 2 3 * \n1 1 0 1 * 2 \n"
     ]
    }
   ],
   "source": [
    "print_matrix(answer)"
   ]
  },
  {
   "cell_type": "code",
   "execution_count": null,
   "metadata": {},
   "outputs": [],
   "source": []
  }
 ]
}