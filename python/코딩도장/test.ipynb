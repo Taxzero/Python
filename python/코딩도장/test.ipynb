{
 "metadata": {
  "language_info": {
   "codemirror_mode": {
    "name": "ipython",
    "version": 3
   },
   "file_extension": ".py",
   "mimetype": "text/x-python",
   "name": "python",
   "nbconvert_exporter": "python",
   "pygments_lexer": "ipython3",
   "version": "3.8.5"
  },
  "orig_nbformat": 2,
  "kernelspec": {
   "name": "python385jvsc74a57bd0c81169c30fb96244cfba0db287a0d3fd5325268de070a7a6116eecd4596df902",
   "display_name": "Python 3.8.5 64-bit ('base': conda)"
  }
 },
 "nbformat": 4,
 "nbformat_minor": 2,
 "cells": [
  {
   "source": [
    "### 세자리수 값을 찾으세요"
   ],
   "cell_type": "markdown",
   "metadata": {}
  },
  {
   "cell_type": "code",
   "execution_count": 3,
   "metadata": {},
   "outputs": [
    {
     "output_type": "stream",
     "name": "stdout",
     "text": [
      "906609\n"
     ]
    }
   ],
   "source": [
    "max = 0\n",
    "for i in range(900,1000):\n",
    "    for j in range(900,1000):\n",
    "        value = i*j\n",
    "        if str(value) == str(value)[::-1]:\n",
    "            if value>max:\n",
    "                max = value\n",
    "print(max)"
   ]
  },
  {
   "cell_type": "code",
   "execution_count": 20,
   "metadata": {},
   "outputs": [],
   "source": [
    "def is_palindrom(s):\n",
    "    return s == s[::-1]"
   ]
  },
  {
   "cell_type": "code",
   "execution_count": 22,
   "metadata": {},
   "outputs": [
    {
     "output_type": "stream",
     "name": "stdout",
     "text": [
      "991020 995 996\n"
     ]
    }
   ],
   "source": [
    "max_num,max_i,max_k = 0, 0, 0\n",
    "for i in range(100,1000):\n",
    "    for k in range(100,1000):\n",
    "        if is_palindrom(str(i + k)):\n",
    "            if max_num < i * k:\n",
    "                max_num = i * k\n",
    "                max_i, max_k = i,k\n",
    "\n",
    "print(max_num, max_i, max_k)"
   ]
  },
  {
   "source": [
    "1.표준 입력으로 숫자 두 개가 입력됩니다. 다음 소스 코드를 완성하여 두 숫자의 덧셈, 뺄셈, 곱셈, 나눗셈의 결과가 출력되게 만드세요. 이때 나눗셈의 결과는 실수라야 합니다.\n",
    "\n",
    "x, y = map(int, input().split())\n",
    "\n",
    "________________\n",
    "________________\n",
    "\n",
    "a, s, m, d = calc(x, y)\n",
    "print('덧셈: {0}, 뺄셈: {1}, 곱셈: {2}, 나눗셈: {3}'.format(a, s, m, d))\n",
    "\n",
    "입력\n",
    "10 20\n",
    "결과\n",
    "덧셈: 30, 뺄셈: -10, 곱셈: 200, 나눗셈: 0.5\n",
    "입력\n",
    "40 8\n",
    "결과\n",
    "덧셈: 48, 뺄셈: 32, 곱셈: 320, 나눗셈: 5.0"
   ],
   "cell_type": "markdown",
   "metadata": {}
  },
  {
   "cell_type": "code",
   "execution_count": 12,
   "metadata": {},
   "outputs": [
    {
     "output_type": "stream",
     "name": "stdout",
     "text": [
      "덧셈: 48, 뺄셈: 32, 곱셈: 320, 나눗셈: 5.0\n"
     ]
    }
   ],
   "source": [
    "a = x + y\n",
    "s = x - y\n",
    "m = x * y\n",
    "d = x / y\n",
    "\n",
    "x, y = map(int, input().split())\n",
    "\n",
    "\n",
    "print('덧셈: {0}, 뺄셈: {1}, 곱셈: {2}, 나눗셈: {3}'.format(a, s, m, d))"
   ]
  },
  {
   "cell_type": "code",
   "execution_count": null,
   "metadata": {},
   "outputs": [],
   "source": []
  },
  {
   "source": [
    "2.표준 입력으로 국어, 영어, 수학, 과학 점수가 입력됩니다. 다음 소스 코드를 완성하여 가장 높은 점수, 가장 낮은 점수, 평균 점수가 출력되게 만드세요. 평균 점수는 실수로 출력되어야 합니다.\n",
    "\n",
    "korean, english, mathematics, science = map(int, input().split())\n",
    "\n",
    "________________\n",
    "________________\n",
    "________________\n",
    "________________\n",
    "\n",
    "min_score, max_score = get_min_max_score(korean, english, mathematics, science)\n",
    "average_score = get_average(korean=korean, english=english,\n",
    "                            mathematics=mathematics, science=science)\n",
    "print('낮은 점수: {0:.2f}, 높은 점수: {1:.2f}, 평균 점수: {2:.2f}'\n",
    "      .format(min_score, max_score, average_score))\n",
    " \n",
    "min_score, max_score = get_min_max_score(english, science)\n",
    "average_score = get_average(english=english, science=science)\n",
    "print('낮은 점수: {0:.2f}, 높은 점수: {1:.2f}, 평균 점수: {2:.2f}'\n",
    "      .format(min_score, max_score, average_score))"
   ],
   "cell_type": "markdown",
   "metadata": {}
  },
  {
   "cell_type": "code",
   "execution_count": 26,
   "metadata": {},
   "outputs": [
    {
     "output_type": "error",
     "ename": "TypeError",
     "evalue": "'int' object is not callable",
     "traceback": [
      "\u001b[1;31m---------------------------------------------------------------------------\u001b[0m",
      "\u001b[1;31mTypeError\u001b[0m                                 Traceback (most recent call last)",
      "\u001b[1;32m<ipython-input-26-32d759b4bd0e>\u001b[0m in \u001b[0;36m<module>\u001b[1;34m\u001b[0m\n\u001b[0;32m      5\u001b[0m \u001b[1;33m\u001b[0m\u001b[0m\n\u001b[0;32m      6\u001b[0m \u001b[1;33m\u001b[0m\u001b[0m\n\u001b[1;32m----> 7\u001b[1;33m \u001b[0mmin_score\u001b[0m\u001b[1;33m,\u001b[0m \u001b[0mmax_score\u001b[0m \u001b[1;33m=\u001b[0m \u001b[0mget_min_max_score\u001b[0m\u001b[1;33m(\u001b[0m\u001b[0mkorean\u001b[0m\u001b[1;33m,\u001b[0m \u001b[0menglish\u001b[0m\u001b[1;33m,\u001b[0m \u001b[0mmathematics\u001b[0m\u001b[1;33m,\u001b[0m \u001b[0mscience\u001b[0m\u001b[1;33m)\u001b[0m\u001b[1;33m\u001b[0m\u001b[1;33m\u001b[0m\u001b[0m\n\u001b[0m\u001b[0;32m      8\u001b[0m average_score = get_average(korean=korean, english=english,\n\u001b[0;32m      9\u001b[0m                             mathematics=mathematics, science=science)\n",
      "\u001b[1;32m<ipython-input-26-32d759b4bd0e>\u001b[0m in \u001b[0;36mget_min_max_score\u001b[1;34m(*args)\u001b[0m\n\u001b[0;32m      2\u001b[0m \u001b[1;33m\u001b[0m\u001b[0m\n\u001b[0;32m      3\u001b[0m \u001b[1;32mdef\u001b[0m \u001b[0mget_min_max_score\u001b[0m\u001b[1;33m(\u001b[0m\u001b[1;33m*\u001b[0m\u001b[0margs\u001b[0m\u001b[1;33m)\u001b[0m\u001b[1;33m:\u001b[0m\u001b[1;33m\u001b[0m\u001b[1;33m\u001b[0m\u001b[0m\n\u001b[1;32m----> 4\u001b[1;33m     \u001b[1;32mreturn\u001b[0m \u001b[0mmin\u001b[0m\u001b[1;33m(\u001b[0m\u001b[0margs\u001b[0m\u001b[1;33m)\u001b[0m\u001b[1;33m,\u001b[0m \u001b[0mmax\u001b[0m\u001b[1;33m(\u001b[0m\u001b[0margs\u001b[0m\u001b[1;33m)\u001b[0m\u001b[1;33m\u001b[0m\u001b[1;33m\u001b[0m\u001b[0m\n\u001b[0m\u001b[0;32m      5\u001b[0m \u001b[1;33m\u001b[0m\u001b[0m\n\u001b[0;32m      6\u001b[0m \u001b[1;33m\u001b[0m\u001b[0m\n",
      "\u001b[1;31mTypeError\u001b[0m: 'int' object is not callable"
     ]
    }
   ],
   "source": [
    "korean, english, mathematics, science = map(int, input().split())\n",
    "\n",
    "def get_min_max_score(*args):\n",
    "    return min(args), max(args)\n",
    "\n",
    "\n",
    "min_score, max_score = get_min_max_score(korean, english, mathematics, science)\n",
    "average_score = get_average(korean=korean, english=english,\n",
    "                            mathematics=mathematics, science=science)\n",
    "print('낮은 점수: {0:.2f}, 높은 점수: {1:.2f}, 평균 점수: {2:.2f}'\n",
    "      .format(min_score, max_score, average_score))\n",
    " \n",
    "\n",
    "\n",
    "\n",
    "def get_average2(**kwargs):\n",
    "    return sum(kwargs.values()) / len(kwargs)\n",
    "\n",
    "min_score, max_score = get_min_max_score(english, science)\n",
    "average_score = get_average(english=english, science=science)\n",
    "print('낮은 점수: {0:.2f}, 높은 점수: {1:.2f}, 평균 점수: {2:.2f}'\n",
    "      .format(min_score, max_score, average_score))"
   ]
  },
  {
   "cell_type": "code",
   "execution_count": 1,
   "metadata": {},
   "outputs": [
    {
     "output_type": "execute_result",
     "data": {
      "text/plain": [
       "1"
      ]
     },
     "metadata": {},
     "execution_count": 1
    }
   ],
   "source": [
    "1"
   ]
  },
  {
   "cell_type": "code",
   "execution_count": null,
   "metadata": {},
   "outputs": [],
   "source": []
  }
 ]
}