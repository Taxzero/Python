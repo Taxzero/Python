{
 "metadata": {
  "language_info": {
   "codemirror_mode": {
    "name": "ipython",
    "version": 3
   },
   "file_extension": ".py",
   "mimetype": "text/x-python",
   "name": "python",
   "nbconvert_exporter": "python",
   "pygments_lexer": "ipython3",
   "version": "3.8.5"
  },
  "orig_nbformat": 2,
  "kernelspec": {
   "name": "python385jvsc74a57bd0c81169c30fb96244cfba0db287a0d3fd5325268de070a7a6116eecd4596df902",
   "display_name": "Python 3.8.5 64-bit ('base': conda)"
  }
 },
 "nbformat": 4,
 "nbformat_minor": 2,
 "cells": [
  {
   "source": [
    "#### 1. 시저암호, 고대 로마의 황제 줄리어스 시저가 만들어 낸 암호인데,\n",
    "-예를 들어 알파벳 A를 입력했을 때, 그 알파벳의 n개 뒤에 오는 알파벳이 출력 되는 것이다.\n",
    "-예를 들어 바꾸려는 단어가 \"CAT\"이고 n을 5로 지정 하였을 때 \"HFY\"가 되는 것이다.\n",
    "\n",
    "\n",
    "-어떠한 암호를 만들 문장과 n을 입력했을 때 암호를 만들어 출력하는 프로그램을 작성하시오.\n",
    "-입력 : 화면에서 문자열과 n값을 입력 받는다. (예: RDSE 5)\n",
    "-출력 : 암호화된 문자열 출력 "
   ],
   "cell_type": "markdown",
   "metadata": {}
  },
  {
   "cell_type": "code",
   "execution_count": 71,
   "metadata": {},
   "outputs": [
    {
     "output_type": "execute_result",
     "data": {
      "text/plain": [
       "'WIXJ'"
      ]
     },
     "metadata": {},
     "execution_count": 71
    }
   ],
   "source": [
    "word = ''\n",
    "for c in 'RDSE':\n",
    "    word += chr(ord(c)+5)\n",
    "word"
   ]
  },
  {
   "source": [
    "1.표준 입력으로 문자열이 입력됩니다. 입력된 문자열에서 'the'의 개수를 출력하는 프로그램을 만드세요(input에서 안내 문자열은 출력하지 않아야 합니다). 단, 모든 문자가 소문자인 'the'만 찾으면 되며 'them', 'there', 'their' 등은 포함하지 않아야 합니다.\n",
    "\n",
    "________________\n",
    "________________\n",
    "________________\n",
    "________________\n",
    "________________\n",
    "________________\n",
    "________________\n",
    "\n",
    "\n",
    "예\n",
    "\n",
    "입력\n",
    "the grown-ups' response, this time, was to advise me to lay aside my drawings of boa constrictors, whether from the inside or the outside, and devote myself instead to geography, history, arithmetic, and grammar. That is why, at the, age of six, I gave up what might have been a magnificent career as a painter. I had been disheartened by the failure of my Drawing Number One and my Drawing Number Two. Grown-ups never understand anything by themselves, and it is tiresome for children to be always and forever explaining things to the.\n"
   ],
   "cell_type": "markdown",
   "metadata": {}
  },
  {
   "cell_type": "code",
   "execution_count": 65,
   "metadata": {},
   "outputs": [
    {
     "output_type": "execute_result",
     "data": {
      "text/plain": [
       "['the',\n",
       " \"grown-ups'\",\n",
       " 'response,',\n",
       " 'this',\n",
       " 'time,',\n",
       " 'was',\n",
       " 'to',\n",
       " 'advise',\n",
       " 'me',\n",
       " 'to',\n",
       " 'lay',\n",
       " 'aside',\n",
       " 'my',\n",
       " 'drawings',\n",
       " 'of',\n",
       " 'boa',\n",
       " 'constrictors,',\n",
       " 'whether',\n",
       " 'from',\n",
       " 'the',\n",
       " 'inside',\n",
       " 'or',\n",
       " 'the',\n",
       " 'outside,',\n",
       " 'and',\n",
       " 'devote',\n",
       " 'myself',\n",
       " 'instead',\n",
       " 'to',\n",
       " 'geography,',\n",
       " 'history,',\n",
       " 'arithmetic,',\n",
       " 'and',\n",
       " 'grammar.',\n",
       " 'That',\n",
       " 'is',\n",
       " 'why,',\n",
       " 'at',\n",
       " 'the,',\n",
       " 'age',\n",
       " 'of',\n",
       " 'six,',\n",
       " 'I',\n",
       " 'gave',\n",
       " 'up',\n",
       " 'what',\n",
       " 'might',\n",
       " 'have',\n",
       " 'been',\n",
       " 'a',\n",
       " 'magnificent',\n",
       " 'career',\n",
       " 'as',\n",
       " 'a',\n",
       " 'painter.',\n",
       " 'I',\n",
       " 'had',\n",
       " 'been',\n",
       " 'disheartened',\n",
       " 'by',\n",
       " 'the',\n",
       " 'failure',\n",
       " 'of',\n",
       " 'my',\n",
       " 'Drawing',\n",
       " 'Number',\n",
       " 'One',\n",
       " 'and',\n",
       " 'my',\n",
       " 'Drawing',\n",
       " 'Number',\n",
       " 'Two.',\n",
       " 'Grown-ups',\n",
       " 'never',\n",
       " 'understand',\n",
       " 'anything',\n",
       " 'by',\n",
       " 'themselves,',\n",
       " 'and',\n",
       " 'it',\n",
       " 'is',\n",
       " 'tiresome',\n",
       " 'for',\n",
       " 'children',\n",
       " 'to',\n",
       " 'be',\n",
       " 'always',\n",
       " 'and',\n",
       " 'forever',\n",
       " 'explaining',\n",
       " 'things',\n",
       " 'to',\n",
       " 'the.']"
      ]
     },
     "metadata": {},
     "execution_count": 65
    }
   ],
   "source": [
    "olythe = input().split()\n",
    "olythe"
   ]
  },
  {
   "cell_type": "code",
   "execution_count": 66,
   "metadata": {},
   "outputs": [
    {
     "output_type": "stream",
     "name": "stdout",
     "text": [
      "6\n"
     ]
    }
   ],
   "source": [
    "olythe = input().split()\n",
    "\n",
    "count = 0\n",
    "for i in olythe:\n",
    "    if i.strip('.,') == 'the':\n",
    "        count += 1\n",
    "        \n",
    "print(count)"
   ]
  },
  {
   "source": [
    "2.표준 입력으로 물품 가격 여러 개가 문자열 한 줄로 입력되고, 각 가격은 ;(세미콜론)으로 구분되어 있습니다. 입력된 가격을 높은 가격순으로 출력하는 프로그램을 만드세요(input에서 안내 문자열은 출력하지 않아야 합니다). 이때 가격은 길이를 9로 만든 뒤 오른쪽으로 정렬하고 천단위로 ,(콤마)를 넣으세요.\n",
    "\n",
    "________________\n",
    "________________\n",
    "________________\n",
    "________________\n",
    "\n",
    "\n",
    "예\n",
    "\n",
    "입력\n",
    "51900;83000;158000;367500;250000;59200;128500;1304000\n",
    "\n",
    "결과\n",
    "1,304,000\n",
    "  367,500\n",
    "  250,000\n",
    "  158,000\n",
    "  128,500\n",
    "   83,000\n",
    "   59,200\n",
    "   51,900"
   ],
   "cell_type": "markdown",
   "metadata": {}
  },
  {
   "source": [
    "# (pri = 'f{pri:,}') 이렇게는 안됨"
   ],
   "cell_type": "code",
   "metadata": {},
   "execution_count": 72,
   "outputs": []
  },
  {
   "cell_type": "code",
   "execution_count": 74,
   "metadata": {},
   "outputs": [
    {
     "output_type": "stream",
     "name": "stdout",
     "text": [
      "1,304,000\n  367,500\n  250,000\n  158,000\n  128,500\n   83,000\n   59,200\n   51,900\n"
     ]
    }
   ],
   "source": [
    "pri = list(map(int, input().split(';')))\n",
    "pri.sort(reverse = True)\n",
    "for i in pri:\n",
    "    print('{0:>9,}'.format(i))"
   ]
  },
  {
   "source": [
    "3.표준 입력으로 문자열 여러 개와 숫자(실수) 여러 개가 두 줄로 입력됩니다. 입력된 첫 번째 줄은 키, 두 번째 줄은 값으로 하여 딕셔너리를 생성한 뒤 딕셔너리를 출력하는 프로그램을 만드세요. input().split()의 결과를 변수 한 개에 저장하면 리스트로 저장됩니다.\n",
    "\n",
    "________________\n",
    "________________\n",
    "________________\n",
    "________________\n",
    "\n",
    "예\n",
    "입력\n",
    "health health_regen mana mana_regen\n",
    "575.6 1.7 338.8 1.63\n",
    "\n",
    "결과\n",
    "{'health': 575.6, 'health_regen': 1.7, 'mana': 338.8, 'mana_regen': 1.63}\n",
    "\n",
    "입력\n",
    "health mana melee attack_speed magic_resistance\n",
    "573.6 308.8 600 0.625 35.7\n",
    "\n",
    "결과\n",
    "{'health': 573.6, 'mana': 308.8, 'melee': 600.0, 'attack_speed': 0.625, 'magic_resistance': 35.7}\n"
   ],
   "cell_type": "markdown",
   "metadata": {}
  },
  {
   "cell_type": "code",
   "execution_count": 31,
   "metadata": {},
   "outputs": [
    {
     "output_type": "stream",
     "name": "stdout",
     "text": [
      "{'health': 575.6, 'health_regen': 1.7, 'mana': 338.8, 'mana_regen': 1.63}\n"
     ]
    }
   ],
   "source": [
    "key_list=input().split()\n",
    "val_list=map(float, input().split())\n",
    "\n",
    "stat=dict(zip(key_list,val_list))\n",
    "print(stat)"
   ]
  },
  {
   "source": [
    "1.표준 입력으로 문자열 여러 개와 숫자 여러 개가 두 줄로 입력되고, 첫 번째 줄은 키, 두 번째 줄은 값으로 하여 딕셔너리를 생성합니다. 다음 코드를 완성하여 딕셔너리에서 키가 'delta'인 키-값 쌍과 값이 30인 키-값 쌍을 삭제하도록 만드세요.\n",
    "\n",
    "keys = input().split()\n",
    "values = map(int, input().split())\n",
    " \n",
    "x = dict(zip(keys, values))\n",
    " \n",
    "________________\n",
    "________________\n",
    " \n",
    "print(x)\n",
    "\n",
    "\n",
    "예\n",
    "\n",
    "입력\n",
    "alpha bravo charlie delta\n",
    "10 20 30 40\n",
    "\n",
    "결과\n",
    "{'alpha': 10, 'bravo': 20}\n",
    "\n",
    "입력\n",
    "alpha bravo charlie delta echo foxtrot golf\n",
    "30 40 50 60 70 80 90\n",
    "\n",
    "결과\n",
    "{'bravo': 40, 'charlie': 50, 'echo': 70, 'foxtrot': 80, 'golf': 90}"
   ],
   "cell_type": "markdown",
   "metadata": {}
  },
  {
   "cell_type": "code",
   "execution_count": 8,
   "metadata": {},
   "outputs": [
    {
     "output_type": "execute_result",
     "data": {
      "text/plain": [
       "{'alpha': 10, 'bravo': 20, 'charlie': 30, 'delta': 40}"
      ]
     },
     "metadata": {},
     "execution_count": 8
    }
   ],
   "source": [
    "keys = input().split()\n",
    "values = map(int, input().split())\n",
    "\n",
    "x = dict(zip(keys, values))\n",
    "x"
   ]
  },
  {
   "cell_type": "code",
   "execution_count": 9,
   "metadata": {},
   "outputs": [
    {
     "output_type": "execute_result",
     "data": {
      "text/plain": [
       "{'alpha': 10, 'bravo': 20, 'charlie': 30}"
      ]
     },
     "metadata": {},
     "execution_count": 9
    }
   ],
   "source": [
    "del x['delta']\n",
    "x"
   ]
  },
  {
   "cell_type": "code",
   "execution_count": 10,
   "metadata": {},
   "outputs": [
    {
     "output_type": "execute_result",
     "data": {
      "text/plain": [
       "{'alpha': 10, 'bravo': 20}"
      ]
     },
     "metadata": {},
     "execution_count": 10
    }
   ],
   "source": [
    "for key, value in x.items():\n",
    "    if value == 30:\n",
    "        break\n",
    "del x[key]\n",
    "x"
   ]
  },
  {
   "cell_type": "code",
   "execution_count": null,
   "metadata": {},
   "outputs": [],
   "source": []
  }
 ]
}