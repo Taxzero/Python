{
 "metadata": {
  "language_info": {
   "codemirror_mode": {
    "name": "ipython",
    "version": 3
   },
   "file_extension": ".py",
   "mimetype": "text/x-python",
   "name": "python",
   "nbconvert_exporter": "python",
   "pygments_lexer": "ipython3",
   "version": "3.8.5"
  },
  "orig_nbformat": 2,
  "kernelspec": {
   "name": "python385jvsc74a57bd0c81169c30fb96244cfba0db287a0d3fd5325268de070a7a6116eecd4596df902",
   "display_name": "Python 3.8.5 64-bit ('base': conda)"
  }
 },
 "nbformat": 4,
 "nbformat_minor": 2,
 "cells": [
  {
   "source": [
    "### 13.7"
   ],
   "cell_type": "markdown",
   "metadata": {}
  },
  {
   "source": [
    "1. 표준 입력으로 가격(정수)과 쿠폰 이름이 각 줄에 입력됩니다. Cash3000 쿠폰은 3,000원, Cash5000 쿠폰은 5,000원을 할인합니다. 쿠폰에 따라 할인된 가격을 출력하는 프로그램을 만드세요(input에서 안내 문자열은 출력하지 않아야 합니다).\n",
    "\n",
    "________________\n",
    "________________\n",
    "________________\n",
    "________________\n",
    "________________\n",
    "________________\n",
    "________________\n",
    "예\n",
    "입력\n",
    "27000\n",
    "Cash3000\n",
    "\n",
    "결과\n",
    "24000\n",
    "\n",
    "입력\n",
    "72000\n",
    "Cash5000\n",
    "\n",
    "결과\n",
    "67000"
   ],
   "cell_type": "markdown",
   "metadata": {}
  },
  {
   "cell_type": "code",
   "execution_count": 1,
   "metadata": {},
   "outputs": [
    {
     "output_type": "stream",
     "name": "stdout",
     "text": [
      "24000\n"
     ]
    }
   ],
   "source": [
    "cp1 = int(input())\n",
    "cp2 = input()\n",
    "\n",
    "if cp2 == 'Cash3000':\n",
    "    cp1 -= 3000\n",
    "if cp2 == 'Cash5000':\n",
    "    cp1 -= 5000\n",
    "print(cp1)"
   ]
  },
  {
   "source": [
    "### 14.7"
   ],
   "cell_type": "markdown",
   "metadata": {}
  },
  {
   "source": [
    "2. 표준 입력으로 국어, 영어, 수학, 과학 점수가 입력됩니다. 여기서 네 과목의 평균 점수가 80점 이상일 때 합격이라고 정했습니다. 평균 점수에 따라 '합격', '불합격'을 출력하는 프로그램을 만드세요(input에서 안내 문자열은 출력하지 않아야 합니다). 단, 점수는 0점부터 100점까지만 입력받을 수 있으며 범위를 벗어났다면 '잘못된 점수'를 출력하고 합격, 불합격 여부는 출력하지 않아야 합니다.\n",
    "\n",
    "________________\n",
    "________________\n",
    "________________\n",
    "________________\n",
    "________________\n",
    "________________\n",
    "________________\n",
    "________________\n",
    "\n",
    "예\n",
    "\n",
    "입력\n",
    "89 72 93 82\n",
    "\n",
    "결과\n",
    "합격\n",
    "\n",
    "입력\n",
    "100 79 68 71\n",
    "\n",
    "결과\n",
    "불합격\n",
    "\n",
    "입력\n",
    "99 85 101 90\n",
    "\n",
    "결과\n",
    "잘못된 점수"
   ],
   "cell_type": "markdown",
   "metadata": {}
  },
  {
   "cell_type": "code",
   "execution_count": 2,
   "metadata": {},
   "outputs": [
    {
     "output_type": "stream",
     "name": "stdout",
     "text": [
      "합격\n"
     ]
    }
   ],
   "source": [
    "kor, eng, mat, sci = map(int,input().split())\n",
    "\n",
    "score = (kor+eng+mat+sci)/4\n",
    "\n",
    "if kor<0 or kor >100 or eng <0 or eng >100 or mat <0 or mat >100 or sci <0 or sci > 100:\n",
    "    print('잘못된 점수')\n",
    "\n",
    "else:\n",
    "    if score >= 80:\n",
    "        print('합격')\n",
    "    else:\n",
    "        print('불합격')"
   ]
  },
  {
   "source": [
    "### 15.7"
   ],
   "cell_type": "markdown",
   "metadata": {}
  },
  {
   "source": [
    "3.표준 입력으로 나이(만 나이)가 입력됩니다(입력 값은 7 이상 입력됨). 교통카드 시스템에서 시내버스 요금은 다음과 같으며 각 나이에 맞게 요금을 차감한 뒤 잔액이 출력되게 만드세요(if, elif 사용). 현재 교통카드에는 9,000원이 들어있습니다.\n",
    "\n",
    "어린이(초등학생, 만 7세 이상 12세 이하): 650원\n",
    "\n",
    "청소년(중∙고등학생, 만 13세 이상 18세 이하): 1,050원\n",
    "\n",
    "어른(일반, 만 19세 이상): 1,250원\n",
    "\n",
    "age = int(input())\n",
    "balance = 9000    # 교통카드 잔액\n",
    "\n",
    "________________\n",
    "________________\n",
    "________________\n",
    "________________\n",
    "________________\n",
    "________________\n",
    "\n",
    "print(balance)\n",
    "\n",
    "예\n",
    "입력\n",
    "17\n",
    "\n",
    "결과\n",
    "7950\n",
    "\n",
    "입력\n",
    "12\n",
    "\n",
    "결과\n",
    "8350"
   ],
   "cell_type": "markdown",
   "metadata": {}
  },
  {
   "cell_type": "code",
   "execution_count": 3,
   "metadata": {},
   "outputs": [
    {
     "output_type": "stream",
     "name": "stdout",
     "text": [
      "7950\n"
     ]
    }
   ],
   "source": [
    "age = int(input())\n",
    "\n",
    "balance = 9000\n",
    "\n",
    "if 7<=age<=12:\n",
    "    balance-=650\n",
    "elif 13<=age<=18:\n",
    "    balance-=1050\n",
    "elif age>=19:\n",
    "    balance-=1250\n",
    "\n",
    "print(balance)"
   ]
  },
  {
   "source": [
    "### 16.6"
   ],
   "cell_type": "markdown",
   "metadata": {}
  },
  {
   "source": [
    "4. 표준 입력으로 정수가 입력됩니다. 입력된 정수의 구구단을 출력하는 프로그램을 만드세요(input에서 안내 문자열은 출력하지 않아야 합니다). 출력 형식은 숫자 * 숫자 = 숫자처럼 만들고 숫자와 *, = 사이는 공백을 한 칸 띄웁니다.\n",
    "\n",
    "________________\n",
    "________________\n",
    "________________\n",
    "예\n",
    "\n",
    "입력\n",
    "\n",
    "2\n",
    "\n",
    "결과\n",
    "\n",
    "2 * 1 = 2\n",
    "\n",
    "2 * 2 = 4\n",
    "\n",
    "2 * 3 = 6\n",
    "\n",
    "2 * 4 = 8\n",
    "\n",
    "2 * 5 = 10\n",
    "\n",
    "2 * 6 = 12\n",
    "\n",
    "2 * 7 = 14\n",
    "\n",
    "2 * 8 = 16\n",
    "\n",
    "2 * 9 = 18\n",
    "\n",
    "입력\n",
    "\n",
    "7\n",
    "\n",
    "결과\n",
    "\n",
    "7 * 1 = 7\n",
    "\n",
    "7 * 2 = 14\n",
    "\n",
    "7 * 3 = 21\n",
    "\n",
    "7 * 4 = 28\n",
    "\n",
    "7 * 5 = 35\n",
    "\n",
    "7 * 6 = 42\n",
    "\n",
    "7 * 7 = 49\n",
    "\n",
    "7 * 8 = 56\n",
    "\n",
    "7 * 9 = 63"
   ],
   "cell_type": "markdown",
   "metadata": {}
  },
  {
   "cell_type": "code",
   "execution_count": 4,
   "metadata": {},
   "outputs": [
    {
     "output_type": "stream",
     "name": "stdout",
     "text": [
      "2 * 1 = 2\n2 * 2 = 4\n2 * 3 = 6\n2 * 4 = 8\n2 * 5 = 10\n2 * 6 = 12\n2 * 7 = 14\n2 * 8 = 16\n2 * 9 = 18\n"
     ]
    }
   ],
   "source": [
    "gugudan = int(input())\n",
    "for i in range(1,10):\n",
    "    print(gugudan,'*',i,'=',gugudan*i)"
   ]
  },
  {
   "source": [
    "5.표준 입력으로 금액(정수)이 입력됩니다. 1회당 요금은 1,350원이고, 교통카드를 사용했을 때마다의 잔액을 각 줄에 출력하는 프로그램을 만드세요(input에서 안내 문자열은 출력하지 않아야 합니다). 단, 최초 금액은 출력하지 않아야 합니다. 그리고 잔액은 음수가 될 수 없으며 잔액이 부족하면 출력을 끝냅니다.\n",
    "\n",
    "________________\n",
    "________________\n",
    "________________\n",
    "________________\n",
    "\n",
    "예\n",
    "\n",
    "입력\n",
    "10000\n",
    "\n",
    "결과\n",
    "\n",
    "8650\n",
    "\n",
    "7300\n",
    "\n",
    "5950\n",
    "\n",
    "4600\n",
    "\n",
    "3250\n",
    "\n",
    "1900\n",
    "\n",
    "550\n",
    "\n",
    "입력\n",
    "\n",
    "13500\n",
    "\n",
    "결과\n",
    "\n",
    "12150\n",
    "\n",
    "10800\n",
    "\n",
    "9450\n",
    "\n",
    "8100\n",
    "\n",
    "6750\n",
    "\n",
    "5400\n",
    "\n",
    "4050\n",
    "\n",
    "2700\n",
    "\n",
    "1350\n",
    "\n",
    "0"
   ],
   "cell_type": "markdown",
   "metadata": {}
  },
  {
   "cell_type": "code",
   "execution_count": 5,
   "metadata": {},
   "outputs": [
    {
     "output_type": "stream",
     "name": "stdout",
     "text": [
      "8650\n7300\n5950\n4600\n3250\n1900\n550\n"
     ]
    }
   ],
   "source": [
    "money = int(input())\n",
    "while money >=1350:\n",
    "    money -= 1350\n",
    "    print(money)"
   ]
  },
  {
   "source": [
    "#### 18.6"
   ],
   "cell_type": "markdown",
   "metadata": {}
  },
  {
   "source": [
    "5. 표준 입력으로 정수 두 개가 입력됩니다(첫 번째 입력 값의 범위는 1~200, 두 번째 입력 값의 범위는 10~200이며 첫 번째 입력 값은 두 번째 입력 값보다 항상 작습니다). 다음 소스 코드를 완성하여 첫 번째 정수와 두 번째 정수 사이의 숫자 중 3으로 끝나지 않는 숫자가 출력되게 만드세요. 정답에 코드를 작성할 때는 while True:에 맞춰서 들여쓰기를 해주세요.\n",
    "\n",
    "\n",
    "start, stop = map(int, input().split())\n",
    " \n",
    "i = start\n",
    " \n",
    "while True:\n",
    "_____________________\n",
    "_____________________\n",
    "_____________________\n",
    "_____________________\n",
    "_____________________\n",
    "\n",
    "\n",
    "    print(i, end=' ')\n",
    "    i += 1\n",
    "예\n",
    "\n",
    "입력\n",
    "\n",
    "1 20\n",
    "\n",
    "결과\n",
    "\n",
    "1 2 4 5 6 7 8 9 10 11 12 14 15 16 17 18 19 20\n",
    "입력\n",
    "\n",
    "21 33\n",
    "\n",
    "결과\n",
    "\n",
    "21 22 24 25 26 27 28 29 30 31 32"
   ],
   "cell_type": "markdown",
   "metadata": {}
  },
  {
   "cell_type": "code",
   "execution_count": 7,
   "metadata": {},
   "outputs": [
    {
     "output_type": "stream",
     "name": "stdout",
     "text": [
      "1 2 4 5 6 7 8 9 10 11 12 14 15 16 17 18 19 20 "
     ]
    }
   ],
   "source": [
    "start, stop = map(int, input().split())\n",
    "\n",
    "i = start\n",
    "\n",
    "while True:\n",
    "    if i > stop:\n",
    "        break\n",
    "    if i % 10 == 3:\n",
    "        i += 1\n",
    "        continue\n",
    "    print(i, end=' ')\n",
    "    i += 1\n",
    "\n"
   ]
  },
  {
   "cell_type": "code",
   "execution_count": null,
   "metadata": {},
   "outputs": [],
   "source": []
  }
 ]
}