{
 "metadata": {
  "language_info": {
   "codemirror_mode": {
    "name": "ipython",
    "version": 3
   },
   "file_extension": ".py",
   "mimetype": "text/x-python",
   "name": "python",
   "nbconvert_exporter": "python",
   "pygments_lexer": "ipython3",
   "version": "3.8.5"
  },
  "orig_nbformat": 2,
  "kernelspec": {
   "name": "python385jvsc74a57bd0c81169c30fb96244cfba0db287a0d3fd5325268de070a7a6116eecd4596df902",
   "display_name": "Python 3.8.5 64-bit ('base': conda)"
  }
 },
 "nbformat": 4,
 "nbformat_minor": 2,
 "cells": [
  {
   "source": [
    "### 조건문"
   ],
   "cell_type": "markdown",
   "metadata": {}
  },
  {
   "source": [
    "#### 1.연도를 입력으로 받아 윤년인지 아닌지를 출력하는 프로그램을 작성하시오.\u000b윤년은 연도가 4의 배수이면서, 100의 배수가 아닐 때 또는 400의 배수일 때이다.\u000b예를들어, 2012년은 4의 배수라서 윤년이지만, 1900년은 4의 배수이지만, 100의 배수이기 때문에 윤년이 아니다. 하지만, 2000년은 400의 배수이기 때문에 윤년이다.)\n"
   ],
   "cell_type": "markdown",
   "metadata": {}
  },
  {
   "cell_type": "code",
   "execution_count": 51,
   "metadata": {},
   "outputs": [
    {
     "output_type": "stream",
     "name": "stdout",
     "text": [
      "윤년X\n"
     ]
    }
   ],
   "source": [
    " year = int(input(\"연도입력\"))\n",
    " \n",
    "if year % 4 == 0 and (year % 100 != 0 or year % 400 == 0):\n",
    "    print(\"윤년\")\n",
    "else:\n",
    "    print(\"윤년X\")"
   ]
  },
  {
   "source": [
    "#### 2.본인의 생일을 1998 12 15 과 같이 년 월 일로 입력받아 오늘 날짜의 만 나이를 구하는 프로그램을 작성하시오."
   ],
   "cell_type": "markdown",
   "metadata": {}
  },
  {
   "cell_type": "code",
   "execution_count": 78,
   "metadata": {},
   "outputs": [
    {
     "output_type": "stream",
     "name": "stdout",
     "text": [
      "생년월일 1995 4 2\n오늘날짜 2021 5 24\n만 26\n"
     ]
    }
   ],
   "source": [
    "from datetime import datetime\n",
    "\n",
    "num = input(\"생년월일 입력 \")\n",
    "\n",
    "year = int(num[:2])\n",
    "month = int(num[2:4])\n",
    "day = int(num[4:])\n",
    "\n",
    "if year > datetime.today().year % 100:\n",
    "    year += 1900\n",
    "else:\n",
    "    year += 2000\n",
    "\n",
    "age = datetime.today().year - year\n",
    "\n",
    "if month > datetime.today().month:\n",
    "    age -= 1\n",
    "elif month == datetime.today().month:\n",
    "    if day > datetime.today().day:\n",
    "        age -= 1\n",
    "\n",
    "print('생년월일', year, month, day)\n",
    "print('오늘날짜', datetime.today().year, datetime.today().month, datetime.today().day)\n",
    "print('만', age)\n",
    "\n",
    "\n"
   ]
  },
  {
   "source": [
    "만#### 3. 세 자연수 a, b, c 가 피타고라스 정리 a2 + b2 = c2 를 만족하면 피타고라스 수라고 부른다. \u000b(여기서 a < b < c 이고 a + b > c)\n",
    "\n",
    "예를 들면, 32 + 42 = 9 + 16 = 25 = 52 이므로 3, 4, 5는 피타고라스 수입니다.\u000b\u000b   a + b + c = 1000 인 피타고라스 수를 구하시오. (답은 한가지 뿐이다.)"
   ],
   "cell_type": "markdown",
   "metadata": {}
  },
  {
   "cell_type": "code",
   "execution_count": 39,
   "metadata": {},
   "outputs": [
    {
     "output_type": "stream",
     "name": "stdout",
     "text": [
      "31875000\n"
     ]
    }
   ],
   "source": [
    "for a in range(1,1001):\n",
    "    for b in range(1,1001):\n",
    "        c = 1000 - a - b\n",
    "        if a*a + b*b == c*c and a < b < c:\n",
    "            print(a*b*c)"
   ]
  },
  {
   "source": [
    "### 반복문"
   ],
   "cell_type": "markdown",
   "metadata": {}
  },
  {
   "source": [
    "#### 1.(별 그리기)\n",
    "5이상 9이하의 홀수를 입력받아 다이아몬드 형태의 별을 출력하는 프로그램을 작성하시오.\n",
    "예) N=7\t\t   \n",
    "\n",
    "                       *\n",
    "\t\t\t  ***\n",
    "\t\t\t *****\n",
    "\t\t\t*******\t\t\t \n",
    "\t\t\t *****\n",
    "\t\t\t  ***\t\t\t   \n",
    "\t\t\t   *\n"
   ],
   "cell_type": "markdown",
   "metadata": {}
  },
  {
   "cell_type": "code",
   "execution_count": 92,
   "metadata": {},
   "outputs": [
    {
     "output_type": "stream",
     "name": "stdout",
     "text": [
      "       *\n      ***\n     *****\n    *******\n   *********\n  ***********\n *************\n  ***********\n   *********\n    *******\n     *****\n      ***\n       *\n"
     ]
    }
   ],
   "source": [
    "s = int(input(\"5이상 9이하 홀수 입력\"))\n",
    "for i in range(1, s+1):\n",
    "    print(\" \"*(s-i), \"*\"*(2*i-1))\n",
    "for j in range(s-1, 0, -1) :\n",
    "    print(\" \"* (s-j), \"*\" * (2*j-1))"
   ]
  },
  {
   "source": [
    "#### 2. 디지털 시계에 하루동안(00:00~23:59) 3이 표시되는 시간을 초로 환산하면 총 몇 초(second) 일까요?- 디지털 시계는 하루동안 다음과 같이 시:분(00:00~23:59)으로 표시됨.\n",
    "00:00 (60초간 표시)\t\t\n",
    "00:01 \t\t\n",
    " …\t\t\n",
    "23:59\n"
   ],
   "cell_type": "markdown",
   "metadata": {}
  },
  {
   "cell_type": "code",
   "execution_count": 37,
   "metadata": {},
   "outputs": [
    {
     "output_type": "stream",
     "name": "stdout",
     "text": [
      "3623\n"
     ]
    }
   ],
   "source": [
    "sec = 0\n",
    "for sec in range(24):\n",
    "    for s in range(60):\n",
    "        if '3' in str(sec) or '3' in str(s):\n",
    "            sec += 60\n",
    "print(sec)"
   ]
  },
  {
   "source": [
    "#### 3.1~1000에서 각 숫자의 개수를 구하시오.- 예로 10 ~ 15 까지의 각 숫자의 개수를 구해보자.\t10 = 1, 0\t\t11 = 1, 1\t\t12 = 1, 2\t\t13 = 1, 3\t\t14 = 1, 4\t\t15 = 1, 5\n",
    "그러므로 이 경우의 답은 0:1개, 1:7개, 2:1개, 3:1개, 4:1개, 5:1개\n"
   ],
   "cell_type": "markdown",
   "metadata": {}
  },
  {
   "cell_type": "code",
   "execution_count": 34,
   "metadata": {},
   "outputs": [
    {
     "output_type": "error",
     "ename": "IndentationError",
     "evalue": "expected an indented block (<ipython-input-34-99535bd49ecd>, line 3)",
     "traceback": [
      "\u001b[1;36m  File \u001b[1;32m\"<ipython-input-34-99535bd49ecd>\"\u001b[1;36m, line \u001b[1;32m3\u001b[0m\n\u001b[1;33m    print(i)\u001b[0m\n\u001b[1;37m            ^\u001b[0m\n\u001b[1;31mIndentationError\u001b[0m\u001b[1;31m:\u001b[0m expected an indented block\n"
     ]
    }
   ],
   "source": [
    "for i in range(1,1001):\n",
    "    for j in str(i):\n",
    "print(i)"
   ]
  },
  {
   "source": [
    "#### 4. 자기 자신을 제외한 모든 양의 약수들의 합이 자기 자신이 되는 자연수를 완전수라고 한다.예를 들면, 6과 28은 완전수이다.\t\t6=1+2+3         # 1,2,3은 각각 6의 약수 \t\t28=1+2+4+7+14   # 1,2,4,7,14는 각각 28의 약수. 입력으로 자연수 N을 받고, 출력으로 N 이하의 모든 완전수를 출력하는 코드를 작성하시오.\n"
   ],
   "cell_type": "markdown",
   "metadata": {}
  },
  {
   "cell_type": "code",
   "execution_count": null,
   "metadata": {},
   "outputs": [],
   "source": []
  },
  {
   "source": [
    "#### 5. 1부터 10까지 자연수를 각각 제곱해 더하면 다음과 같다 (제곱의 합). \t\t12 + 22 + ... + 102 = 385 1부터 10을 먼저 더한 다음에 그 결과를 제곱하면 다음과 같습니다 (합의 제곱).\t\t(1 + 2 + ... + 10)2 = 552 = 3025 \u000b따라서 1부터 10까지 자연수에 대해 \"합의 제곱\"과 \"제곱의 합\"의 차이는 3025 - 385 = 2640 이 된다.\u000b\u000b입력으로 자연수 N을 받아, 1부터 N까지 자연수에 대해 \"합의 제곱\"과 \"제곱의 합\"의 차이는 얼마인가?\n"
   ],
   "cell_type": "markdown",
   "metadata": {}
  },
  {
   "cell_type": "code",
   "execution_count": 93,
   "metadata": {},
   "outputs": [],
   "source": [
    "##!213"
   ]
  },
  {
   "cell_type": "code",
   "execution_count": 94,
   "metadata": {},
   "outputs": [],
   "source": [
    "####ㅁㄴㅇㅁ"
   ]
  },
  {
   "cell_type": "code",
   "execution_count": null,
   "metadata": {},
   "outputs": [],
   "source": []
  }
 ]
}