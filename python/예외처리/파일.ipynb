{
 "metadata": {
  "language_info": {
   "codemirror_mode": {
    "name": "ipython",
    "version": 3
   },
   "file_extension": ".py",
   "mimetype": "text/x-python",
   "name": "python",
   "nbconvert_exporter": "python",
   "pygments_lexer": "ipython3",
   "version": "3.8.5"
  },
  "orig_nbformat": 2,
  "kernelspec": {
   "name": "python385jvsc74a57bd0c81169c30fb96244cfba0db287a0d3fd5325268de070a7a6116eecd4596df902",
   "display_name": "Python 3.8.5 64-bit ('base': conda)"
  }
 },
 "nbformat": 4,
 "nbformat_minor": 2,
 "cells": [
  {
   "source": [
    "# 파일 다루기 "
   ],
   "cell_type": "markdown",
   "metadata": {}
  },
  {
   "source": [
    "- 텍스트 파일 읽기"
   ],
   "cell_type": "markdown",
   "metadata": {}
  },
  {
   "cell_type": "code",
   "execution_count": 3,
   "metadata": {},
   "outputs": [
    {
     "output_type": "stream",
     "name": "stdout",
     "text": [
      "I Have a Dream, a song to sing\n\nTo help me cope, with anything\n\nIf you see the wonder, of a fairy tale\n\nYou can take the future, even if you fail\n\nI believe in angels\n\nSomething good in everything I see\n\nI believe in angels\n\nWhen I know the time is right for me\n\nI'll cross the stream, I Have a Dream\n"
     ]
    }
   ],
   "source": [
    "f = open('dream.txt','r')\n",
    "contents = f.read()\n",
    "print(contents)\n",
    "f.close()"
   ]
  },
  {
   "cell_type": "code",
   "execution_count": 69,
   "metadata": {},
   "outputs": [
    {
     "output_type": "stream",
     "name": "stdout",
     "text": [
      "<class 'str'>\nI Have a Dream, a song to sing\n\nTo help me cope, with anything\n\nIf you see the wonder, of a fairy tale\n\nYou can take the future, even if you fail\n\nI believe in angels\n\nSomething good in everything I see\n\nI believe in angels\n\nWhen I know the time is right for me\n\nI'll cross the stream, I Have a Dream\n"
     ]
    }
   ],
   "source": [
    "with open('dream.txt', 'r') as my_file:\n",
    "    contents = my_file.read()\n",
    "    print(type(contents))\n",
    "    print(contents)"
   ]
  },
  {
   "cell_type": "code",
   "execution_count": 70,
   "metadata": {},
   "outputs": [
    {
     "output_type": "stream",
     "name": "stdout",
     "text": [
      "<class 'list'>\n['I Have a Dream, a song to sing\\n', '\\n', 'To help me cope, with anything\\n', '\\n', 'If you see the wonder, of a fairy tale\\n', '\\n', 'You can take the future, even if you fail\\n', '\\n', 'I believe in angels\\n', '\\n', 'Something good in everything I see\\n', '\\n', 'I believe in angels\\n', '\\n', 'When I know the time is right for me\\n', '\\n', \"I'll cross the stream, I Have a Dream\"]\n"
     ]
    }
   ],
   "source": [
    "# 한 줄씩 읽어서 리스트로 반환 - readlines\n",
    "with open('dream.txt', 'r') as my_file:\n",
    "    contents_list = my_file.readlines()\n",
    "    print(type(contents_list))\n",
    "    print(contents_list)"
   ]
  },
  {
   "cell_type": "code",
   "execution_count": 72,
   "metadata": {},
   "outputs": [
    {
     "output_type": "execute_result",
     "data": {
      "text/plain": [
       "'I Have a Dream, a song to sing\\n'"
      ]
     },
     "metadata": {},
     "execution_count": 72
    }
   ],
   "source": [
    "contents_list[0]"
   ]
  },
  {
   "cell_type": "code",
   "execution_count": 10,
   "metadata": {},
   "outputs": [
    {
     "output_type": "stream",
     "name": "stdout",
     "text": [
      "I Have a Dream, a song to sing\n\nTo help me cope, with anything\n\nIf you see the wonder, of a fairy tale\n\nYou can take the future, even if you fail\n\nI believe in angels\n\nSomething good in everything I see\n\nI believe in angels\n\nWhen I know the time is right for me\n\nI'll cross the stream, I Have a Dream\n"
     ]
    }
   ],
   "source": [
    "#한 줄 단위로 읽기 readline\n",
    "with open('dream.txt','r')as my_file:\n",
    "    while True:\n",
    "        line = my_file.readline()\n",
    "        if not line:\n",
    "            break\n",
    "        print(line.replace('\\n',''))"
   ]
  },
  {
   "cell_type": "code",
   "execution_count": 12,
   "metadata": {},
   "outputs": [
    {
     "output_type": "stream",
     "name": "stdout",
     "text": [
      "1 === I Have a Dream, a song to sing\n2 === \n3 === To help me cope, with anything\n4 === \n5 === If you see the wonder, of a fairy tale\n6 === \n7 === You can take the future, even if you fail\n8 === \n9 === I believe in angels\n10 === \n11 === Something good in everything I see\n12 === \n13 === I believe in angels\n14 === \n15 === When I know the time is right for me\n16 === \n17 === I'll cross the stream, I Have a Dream\n"
     ]
    }
   ],
   "source": [
    "with open('dream.txt','r')as my_file:\n",
    "    number = 1\n",
    "    while True:\n",
    "        line = my_file.readline()\n",
    "        if not line:\n",
    "            break\n",
    "        print(number,'===',line.replace('\\n',''))\n",
    "        number += 1"
   ]
  },
  {
   "source": [
    "- 파일 쓰기"
   ],
   "cell_type": "markdown",
   "metadata": {}
  },
  {
   "cell_type": "code",
   "execution_count": 14,
   "metadata": {},
   "outputs": [],
   "source": [
    "with open('new_file.txt','w') as f:\n",
    "    f.write('A quick brown fox jump over the lazy dog.')"
   ]
  },
  {
   "cell_type": "code",
   "execution_count": 16,
   "metadata": {},
   "outputs": [],
   "source": [
    "# write mode 에서는 파일을 over write한다.\n",
    "with open('new_file.txt','w',encoding='UTF-8') as f:\n",
    "    f.write('달이 밝구나. 내가 가야할 길도 그러하였으면 좋겠구나.')"
   ]
  },
  {
   "cell_type": "code",
   "execution_count": 25,
   "metadata": {},
   "outputs": [],
   "source": [
    "with open('new_file2.txt','a',encoding='UTF-8') as f:\n",
    "    f.write('A quick brown fox jump over the lazy dog.\\n')\n",
    "    f.write('달이 밝구나. 내가 가야할 길도 그러하였으면 좋겠구나.\\n')"
   ]
  },
  {
   "source": [
    "- 디렉토리 만들기"
   ],
   "cell_type": "markdown",
   "metadata": {}
  },
  {
   "cell_type": "code",
   "execution_count": 27,
   "metadata": {},
   "outputs": [],
   "source": [
    "import os\n",
    "os.mkdir('subdir')"
   ]
  },
  {
   "cell_type": "code",
   "execution_count": 28,
   "metadata": {},
   "outputs": [
    {
     "output_type": "execute_result",
     "data": {
      "text/plain": [
       "True"
      ]
     },
     "metadata": {},
     "execution_count": 28
    }
   ],
   "source": [
    "os.path.exists('subdir')"
   ]
  },
  {
   "cell_type": "code",
   "execution_count": 29,
   "metadata": {},
   "outputs": [],
   "source": [
    "# 디렉토리 존재 유무에 무관하게 코딩하는 방법\n",
    "if not os.path.exists('subdir'):\n",
    "    os.mkdir('subdir')"
   ]
  },
  {
   "source": [
    "-dream.txt의 홀수번째 라인을 subdir/dream_odd.txt에 쓰기"
   ],
   "cell_type": "markdown",
   "metadata": {}
  },
  {
   "cell_type": "code",
   "execution_count": 73,
   "metadata": {},
   "outputs": [],
   "source": [
    "with open('dream.txt', 'r') as rf:\n",
    "    lines = rf.readlines()\n",
    "\n",
    "if not os.path.exists('subdir'):\n",
    "    os.mkdir('subdir')\n",
    "\n",
    "with open('subdir/dream_odd.txt', 'w') as wf:\n",
    "    for index, line in enumerate(lines):\n",
    "        if index % 2 == 0:\n",
    "            wf.write(line)"
   ]
  },
  {
   "cell_type": "code",
   "execution_count": 56,
   "metadata": {},
   "outputs": [],
   "source": [
    "with open('dream.txt','r')as rf:\n",
    "    lines = rf.readlines()\n",
    "\n",
    "if not os.path.exists('subdir'):\n",
    "    os.mkdir('subdir')\n",
    "\n",
    "with open('subdir/dream_odd.txt','w') as wf:\n",
    "    for index, line in enumerate(lines):\n",
    "        if index % 2 == 0:\n",
    "            wf.write(line)"
   ]
  },
  {
   "source": [
    "- binary data - pickle 모듈 활용"
   ],
   "cell_type": "markdown",
   "metadata": {}
  },
  {
   "cell_type": "code",
   "execution_count": 64,
   "metadata": {},
   "outputs": [],
   "source": [
    "test_list = [1,True,3.14,'String']"
   ]
  },
  {
   "cell_type": "code",
   "execution_count": 67,
   "metadata": {},
   "outputs": [],
   "source": [
    "import pickle\n",
    "\n",
    "with open('list.pickle', 'wb') as bf:\n",
    "    pickle.dump(test_list, bf)"
   ]
  },
  {
   "cell_type": "code",
   "execution_count": 68,
   "metadata": {},
   "outputs": [
    {
     "output_type": "execute_result",
     "data": {
      "text/plain": [
       "[1, True, 3.14, 'String']"
      ]
     },
     "metadata": {},
     "execution_count": 68
    }
   ],
   "source": [
    "with open('list.pickle','rb') as bf:\n",
    "    x = pickle.load(bf)\n",
    "x"
   ]
  },
  {
   "cell_type": "code",
   "execution_count": null,
   "metadata": {},
   "outputs": [],
   "source": []
  }
 ]
}