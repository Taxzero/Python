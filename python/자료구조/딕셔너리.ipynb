{
 "metadata": {
  "language_info": {
   "codemirror_mode": {
    "name": "ipython",
    "version": 3
   },
   "file_extension": ".py",
   "mimetype": "text/x-python",
   "name": "python",
   "nbconvert_exporter": "python",
   "pygments_lexer": "ipython3",
   "version": "3.8.5"
  },
  "orig_nbformat": 2,
  "kernelspec": {
   "name": "python385jvsc74a57bd0c81169c30fb96244cfba0db287a0d3fd5325268de070a7a6116eecd4596df902",
   "display_name": "Python 3.8.5 64-bit ('base': conda)"
  }
 },
 "nbformat": 4,
 "nbformat_minor": 2,
 "cells": [
  {
   "source": [
    "# 딕셔너리(Dictionary)"
   ],
   "cell_type": "markdown",
   "metadata": {}
  },
  {
   "source": [
    "### 딕셔너리 만들기( C )"
   ],
   "cell_type": "markdown",
   "metadata": {}
  },
  {
   "cell_type": "code",
   "execution_count": 3,
   "metadata": {},
   "outputs": [
    {
     "output_type": "execute_result",
     "data": {
      "text/plain": [
       "{'health': 490, 'mana': 314, 'melee': 550, 'armor': 18.72}"
      ]
     },
     "metadata": {},
     "execution_count": 3
    }
   ],
   "source": [
    "lux = {'health':490, 'mana':314, 'melee':550, 'armor':18.72}\n",
    "lux"
   ]
  },
  {
   "cell_type": "code",
   "execution_count": 4,
   "metadata": {},
   "outputs": [
    {
     "output_type": "execute_result",
     "data": {
      "text/plain": [
       "{'health': 490, 'mana': 333, 'melee': 550, 'armor': 19.72}"
      ]
     },
     "metadata": {},
     "execution_count": 4
    }
   ],
   "source": [
    "lux1 = dict(health = 490, mana = 333, melee = 550, armor = 19.72)\n",
    "lux1"
   ]
  },
  {
   "cell_type": "code",
   "execution_count": 5,
   "metadata": {},
   "outputs": [
    {
     "output_type": "execute_result",
     "data": {
      "text/plain": [
       "{'health': 490, 'mana': 333, 'melee': 550, 'armor': 18.72}"
      ]
     },
     "metadata": {},
     "execution_count": 5
    }
   ],
   "source": [
    "lux2 = dict([('health', 490),('mana', 333),('melee', 550),('armor', 18.72)])\n",
    "lux2"
   ]
  },
  {
   "cell_type": "code",
   "execution_count": 6,
   "metadata": {},
   "outputs": [
    {
     "output_type": "execute_result",
     "data": {
      "text/plain": [
       "[(1, 'a'), (2, 'b'), (3, 'c')]"
      ]
     },
     "metadata": {},
     "execution_count": 6
    }
   ],
   "source": [
    "list(zip([1, 2, 3],['a', 'b', 'c']))"
   ]
  },
  {
   "cell_type": "code",
   "execution_count": 7,
   "metadata": {},
   "outputs": [
    {
     "output_type": "execute_result",
     "data": {
      "text/plain": [
       "[('health', 490), ('mana', 333), ('melee', 550), ('armor', 18.72)]"
      ]
     },
     "metadata": {},
     "execution_count": 7
    }
   ],
   "source": [
    "key_list = ['health', 'mana', 'melee', 'armor']\n",
    "val_list = [490, 333, 550, 18.72]\n",
    "list(zip(key_list,val_list))"
   ]
  },
  {
   "cell_type": "code",
   "execution_count": 8,
   "metadata": {},
   "outputs": [
    {
     "output_type": "execute_result",
     "data": {
      "text/plain": [
       "{'health': 490, 'mana': 333, 'melee': 550, 'armor': 18.72}"
      ]
     },
     "metadata": {},
     "execution_count": 8
    }
   ],
   "source": [
    "lux3 = dict(zip(key_list, val_list))\n",
    "lux3"
   ]
  },
  {
   "source": [
    "#### 딕셔너리 참조하기(R)"
   ],
   "cell_type": "markdown",
   "metadata": {}
  },
  {
   "cell_type": "code",
   "execution_count": 10,
   "metadata": {},
   "outputs": [
    {
     "output_type": "execute_result",
     "data": {
      "text/plain": [
       "490"
      ]
     },
     "metadata": {},
     "execution_count": 10
    }
   ],
   "source": [
    "lux['health']"
   ]
  },
  {
   "source": [
    "#### 딕셔너리 값 변경하기(U)"
   ],
   "cell_type": "markdown",
   "metadata": {}
  },
  {
   "cell_type": "code",
   "execution_count": 12,
   "metadata": {},
   "outputs": [
    {
     "output_type": "execute_result",
     "data": {
      "text/plain": [
       "{'health': 600, 'mana': 314, 'melee': 550, 'armor': 18.72}"
      ]
     },
     "metadata": {},
     "execution_count": 12
    }
   ],
   "source": [
    "lux['health'] = 600\n",
    "lux"
   ]
  },
  {
   "cell_type": "code",
   "execution_count": 14,
   "metadata": {},
   "outputs": [
    {
     "output_type": "execute_result",
     "data": {
      "text/plain": [
       "{'health': 600, 'mana': 414, 'melee': 550, 'armor': 18.72}"
      ]
     },
     "metadata": {},
     "execution_count": 14
    }
   ],
   "source": [
    "lux['mana'] += 100\n",
    "lux"
   ]
  },
  {
   "cell_type": "code",
   "execution_count": 15,
   "metadata": {},
   "outputs": [
    {
     "output_type": "execute_result",
     "data": {
      "text/plain": [
       "{'health': 600, 'mana': 414, 'melee': 550, 'armor': 18.72, 'mana_regen': 3.28}"
      ]
     },
     "metadata": {},
     "execution_count": 15
    }
   ],
   "source": [
    "lux['mana_regen'] = 3.28\n",
    "lux"
   ]
  },
  {
   "source": [
    "#### 딕셔너리 값 삭제하기(D)"
   ],
   "cell_type": "markdown",
   "metadata": {}
  },
  {
   "cell_type": "code",
   "execution_count": 17,
   "metadata": {},
   "outputs": [
    {
     "output_type": "execute_result",
     "data": {
      "text/plain": [
       "{'health': 600, 'mana': 414, 'melee': 550, 'armor': 18.72}"
      ]
     },
     "metadata": {},
     "execution_count": 17
    }
   ],
   "source": [
    "lux.pop('mana_regen')\n",
    "lux"
   ]
  },
  {
   "cell_type": "code",
   "execution_count": 18,
   "metadata": {},
   "outputs": [
    {
     "output_type": "execute_result",
     "data": {
      "text/plain": [
       "{'health': 600, 'mana': 414, 'melee': 550}"
      ]
     },
     "metadata": {},
     "execution_count": 18
    }
   ],
   "source": [
    "del lux['armor']\n",
    "lux"
   ]
  },
  {
   "source": [
    "#### 딕셔너리의 키/벨류 값들을 가져오기"
   ],
   "cell_type": "markdown",
   "metadata": {}
  },
  {
   "cell_type": "code",
   "execution_count": 22,
   "metadata": {},
   "outputs": [
    {
     "output_type": "execute_result",
     "data": {
      "text/plain": [
       "dict_keys(['health', 'mana', 'melee', 'armor'])"
      ]
     },
     "metadata": {},
     "execution_count": 22
    }
   ],
   "source": [
    "lux2.keys()"
   ]
  },
  {
   "cell_type": "code",
   "execution_count": 23,
   "metadata": {},
   "outputs": [
    {
     "output_type": "execute_result",
     "data": {
      "text/plain": [
       "dict_values([490, 333, 550, 18.72])"
      ]
     },
     "metadata": {},
     "execution_count": 23
    }
   ],
   "source": [
    "lux2.values()"
   ]
  },
  {
   "source": [
    "#### 딕셔너리 반복문"
   ],
   "cell_type": "markdown",
   "metadata": {}
  },
  {
   "cell_type": "code",
   "execution_count": 26,
   "metadata": {},
   "outputs": [
    {
     "output_type": "execute_result",
     "data": {
      "text/plain": [
       "dict_items([('health', 600), ('mana', 414), ('melee', 550)])"
      ]
     },
     "metadata": {},
     "execution_count": 26
    }
   ],
   "source": [
    "lux.items()"
   ]
  },
  {
   "cell_type": "code",
   "execution_count": 29,
   "metadata": {},
   "outputs": [
    {
     "output_type": "stream",
     "name": "stdout",
     "text": [
      "health 600\nmana 414\nmelee 550\n"
     ]
    }
   ],
   "source": [
    "for key, value in lux.items():\n",
    "    print(key, value)"
   ]
  },
  {
   "cell_type": "code",
   "execution_count": 28,
   "metadata": {},
   "outputs": [
    {
     "output_type": "stream",
     "name": "stdout",
     "text": [
      "health 600\nmana 414\nmelee 550\n"
     ]
    }
   ],
   "source": [
    "for key in lux.keys():\n",
    "    print(key, lux[key])"
   ]
  },
  {
   "cell_type": "code",
   "execution_count": 30,
   "metadata": {},
   "outputs": [],
   "source": [
    "terrestrial_planet = {\n",
    "    'Mercury': {\n",
    "        'mean_radius': 2439.7,\n",
    "        'mass': 3.3022E+23,\n",
    "        'orbital_period': 87.969\n",
    "    },\n",
    "    'Venus': {\n",
    "        'mean_radius': 6051.8,\n",
    "        'mass': 4.8676E+24,\n",
    "        'orbital_period': 224.70069,\n",
    "    },\n",
    "    'Earth': {\n",
    "        'mean_radius': 6371.0,\n",
    "        'mass': 5.97219E+24,\n",
    "        'orbital_period': 365.25641,\n",
    "    },\n",
    "    'Mars': {\n",
    "        'mean_radius': 3389.5,\n",
    "        'mass': 6.4185E+23,\n",
    "        'orbital_period': 686.9600,\n",
    "    }\n",
    "}"
   ]
  },
  {
   "cell_type": "code",
   "execution_count": 31,
   "metadata": {},
   "outputs": [
    {
     "output_type": "execute_result",
     "data": {
      "text/plain": [
       "{'mean_radius': 6371.0, 'mass': 5.97219e+24, 'orbital_period': 365.25641}"
      ]
     },
     "metadata": {},
     "execution_count": 31
    }
   ],
   "source": [
    "terrestrial_planet['Earth']"
   ]
  },
  {
   "cell_type": "code",
   "execution_count": 32,
   "metadata": {},
   "outputs": [
    {
     "output_type": "execute_result",
     "data": {
      "text/plain": [
       "365.25641"
      ]
     },
     "metadata": {},
     "execution_count": 32
    }
   ],
   "source": [
    "terrestrial_planet['Earth']['orbital_period']"
   ]
  },
  {
   "cell_type": "code",
   "execution_count": null,
   "metadata": {},
   "outputs": [],
   "source": []
  }
 ]
}