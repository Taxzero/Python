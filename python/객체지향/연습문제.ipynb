{
 "metadata": {
  "language_info": {
   "codemirror_mode": {
    "name": "ipython",
    "version": 3
   },
   "file_extension": ".py",
   "mimetype": "text/x-python",
   "name": "python",
   "nbconvert_exporter": "python",
   "pygments_lexer": "ipython3",
   "version": "3.8.5"
  },
  "orig_nbformat": 2,
  "kernelspec": {
   "name": "python385jvsc74a57bd0c81169c30fb96244cfba0db287a0d3fd5325268de070a7a6116eecd4596df902",
   "display_name": "Python 3.8.5 64-bit ('base': conda)"
  }
 },
 "nbformat": 4,
 "nbformat_minor": 2,
 "cells": [
  {
   "source": [
    "# 씨저 암호 클래스로 작성하기"
   ],
   "cell_type": "markdown",
   "metadata": {}
  },
  {
   "cell_type": "code",
   "execution_count": 3,
   "metadata": {},
   "outputs": [],
   "source": [
    "class Caesar:\n",
    "    def encode(self, plain, n):\n",
    "        cipher = ''\n",
    "        for c in plain:\n",
    "            diff = ord(c) - ord('A') + n\n",
    "            if diff >= 26:\n",
    "                cipher += chr(ord('A') + diff % 26)\n",
    "            else:\n",
    "                cipher += chr(ord(c) + n)\n",
    "        return cipher\n",
    "\n",
    "    def decode(self, cipher, n):\n",
    "        plain = ''\n",
    "        for c in cipher:\n",
    "            diff = ord(c) - ord('A') - n\n",
    "            if diff < 0:\n",
    "                plain += chr(ord('Z') + diff + 1)\n",
    "            else:\n",
    "                plain += chr(ord(c) - n)\n",
    "        return plain"
   ]
  },
  {
   "cell_type": "code",
   "execution_count": 4,
   "metadata": {},
   "outputs": [
    {
     "output_type": "execute_result",
     "data": {
      "text/plain": [
       "'DEFABC'"
      ]
     },
     "metadata": {},
     "execution_count": 4
    }
   ],
   "source": [
    "caesar = Caesar()\n",
    "caesar.encode('ABCXYZ', 3)"
   ]
  },
  {
   "cell_type": "code",
   "execution_count": 5,
   "metadata": {},
   "outputs": [
    {
     "output_type": "execute_result",
     "data": {
      "text/plain": [
       "'ABCXYZ'"
      ]
     },
     "metadata": {},
     "execution_count": 5
    }
   ],
   "source": [
    "caesar.decode('DEFABC', 3)"
   ]
  }
 ]
}