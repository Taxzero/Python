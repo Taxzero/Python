{
 "metadata": {
  "language_info": {
   "codemirror_mode": {
    "name": "ipython",
    "version": 3
   },
   "file_extension": ".py",
   "mimetype": "text/x-python",
   "name": "python",
   "nbconvert_exporter": "python",
   "pygments_lexer": "ipython3",
   "version": "3.8.5"
  },
  "orig_nbformat": 2,
  "kernelspec": {
   "name": "python385jvsc74a57bd0c81169c30fb96244cfba0db287a0d3fd5325268de070a7a6116eecd4596df902",
   "display_name": "Python 3.8.5 64-bit ('base': conda)"
  }
 },
 "nbformat": 4,
 "nbformat_minor": 2,
 "cells": [
  {
   "source": [
    "### -리스트의 이해"
   ],
   "cell_type": "markdown",
   "metadata": {}
  },
  {
   "source": [
    "#리스트의 개념\n",
    "#-리스트(list) 하나의 변수에 여러 값을 할당하는 자료형이다.\n",
    "#-파이썬에서는 리스트처럼 여러 데이터를 하나의 변수에 할당하는 기법을 시퀸스 자료형이라고 한다. 시퀸스 자료형은 여러 자료를 순서대로 넣는다는 뜻이다.\n",
    "#-리스트는 하나의 자료형으로만 저장하지 않고, 정수형이나 시수형 같은 다양한 자료형을 포함할 수 있다."
   ],
   "cell_type": "markdown",
   "metadata": {}
  },
  {
   "cell_type": "code",
   "execution_count": 5,
   "metadata": {},
   "outputs": [],
   "source": [
    "colors = ['red','blue','green',0xffffff]"
   ]
  },
  {
   "source": [
    "### -인덱싱"
   ],
   "cell_type": "markdown",
   "metadata": {}
  },
  {
   "cell_type": "code",
   "execution_count": 9,
   "metadata": {},
   "outputs": [
    {
     "output_type": "execute_result",
     "data": {
      "text/plain": [
       "('red', 'red')"
      ]
     },
     "metadata": {},
     "execution_count": 9
    }
   ],
   "source": [
    "colors[0], colors[-4]"
   ]
  },
  {
   "cell_type": "code",
   "execution_count": 10,
   "metadata": {},
   "outputs": [
    {
     "output_type": "execute_result",
     "data": {
      "text/plain": [
       "('green', 'green')"
      ]
     },
     "metadata": {},
     "execution_count": 10
    }
   ],
   "source": [
    "colors[2],colors[-2]"
   ]
  },
  {
   "source": [
    "#### -슬라이싱"
   ],
   "cell_type": "markdown",
   "metadata": {}
  },
  {
   "cell_type": "code",
   "execution_count": 12,
   "metadata": {},
   "outputs": [
    {
     "output_type": "execute_result",
     "data": {
      "text/plain": [
       "['서울', '부산', '인천']"
      ]
     },
     "metadata": {},
     "execution_count": 12
    }
   ],
   "source": [
    "cities = ['서울','부산','인천','대구','대전','광주','울산','세종']\n",
    "cities[0:3]"
   ]
  },
  {
   "cell_type": "code",
   "execution_count": 13,
   "metadata": {},
   "outputs": [
    {
     "output_type": "execute_result",
     "data": {
      "text/plain": [
       "['서울', '부산', '인천']"
      ]
     },
     "metadata": {},
     "execution_count": 13
    }
   ],
   "source": [
    "#시작 0, 끝에 -1은 생략가능\n",
    "cities[:3]"
   ]
  },
  {
   "cell_type": "code",
   "execution_count": 15,
   "metadata": {},
   "outputs": [
    {
     "output_type": "execute_result",
     "data": {
      "text/plain": [
       "['광주', '울산', '세종']"
      ]
     },
     "metadata": {},
     "execution_count": 15
    }
   ],
   "source": [
    "cities[5:]"
   ]
  },
  {
   "cell_type": "code",
   "execution_count": 17,
   "metadata": {},
   "outputs": [
    {
     "output_type": "execute_result",
     "data": {
      "text/plain": [
       "['광주', '울산']"
      ]
     },
     "metadata": {},
     "execution_count": 17
    }
   ],
   "source": [
    "# -1을 추가하면 끝에 하나가 빠짐 \n",
    "cities[5:-1]"
   ]
  },
  {
   "cell_type": "code",
   "execution_count": 20,
   "metadata": {},
   "outputs": [
    {
     "output_type": "execute_result",
     "data": {
      "text/plain": [
       "['서울', '인천', '대전', '울산']"
      ]
     },
     "metadata": {},
     "execution_count": 20
    }
   ],
   "source": [
    "# 2를 추가해서 2개의 값을 띄어 출력\n",
    "# 시작값 : 끝값 : 중분\n",
    "cities[::2]"
   ]
  },
  {
   "cell_type": "code",
   "execution_count": null,
   "metadata": {},
   "outputs": [],
   "source": [
    "#하나씩 감소하여 출력\n",
    "cities[::-1]"
   ]
  },
  {
   "cell_type": "code",
   "execution_count": 24,
   "metadata": {},
   "outputs": [
    {
     "output_type": "execute_result",
     "data": {
      "text/plain": [
       "['세종', '울산']"
      ]
     },
     "metadata": {},
     "execution_count": 24
    }
   ],
   "source": [
    "#Revers Index\n",
    "#뒤에있는 값부터 출력\n",
    "#-1은 값하나 빼기\n",
    "cities[7:5:-1]"
   ]
  },
  {
   "cell_type": "code",
   "execution_count": null,
   "metadata": {},
   "outputs": [],
   "source": [
    "#증가분을 빼면 값이 안나옴 꼭 -1 넣어야함\n",
    "cities[7:5]"
   ]
  },
  {
   "cell_type": "code",
   "execution_count": 25,
   "metadata": {},
   "outputs": [],
   "source": [
    "#행 인덱스 뽑아내기\n",
    "#ex) [1:3,:3] (2,3행의 3열까지)"
   ]
  },
  {
   "cell_type": "code",
   "execution_count": 30,
   "metadata": {},
   "outputs": [
    {
     "output_type": "execute_result",
     "data": {
      "text/plain": [
       "['서울', '부산', '인천', '대구', '대전', '광주', '울산', '세종']"
      ]
     },
     "metadata": {},
     "execution_count": 30
    }
   ],
   "source": [
    "#인덱스 범위를 넘어가는 슬라이싱(범위가 넘어가면 그냥 다 나옴)\n",
    "cities[-10:10]"
   ]
  },
  {
   "source": [
    "### -연산"
   ],
   "cell_type": "markdown",
   "metadata": {}
  },
  {
   "cell_type": "code",
   "execution_count": 33,
   "metadata": {},
   "outputs": [],
   "source": [
    "color1 = ['red','green','blue']\n",
    "color2 = ['orange','black','white']"
   ]
  },
  {
   "cell_type": "code",
   "execution_count": 34,
   "metadata": {},
   "outputs": [
    {
     "output_type": "execute_result",
     "data": {
      "text/plain": [
       "3"
      ]
     },
     "metadata": {},
     "execution_count": 34
    }
   ],
   "source": [
    "#길이\n",
    "len(color1)"
   ]
  },
  {
   "cell_type": "code",
   "execution_count": 35,
   "metadata": {},
   "outputs": [
    {
     "output_type": "execute_result",
     "data": {
      "text/plain": [
       "['red', 'green', 'blue', 'orange', 'black', 'white']"
      ]
     },
     "metadata": {},
     "execution_count": 35
    }
   ],
   "source": [
    "#리스트 합치기\n",
    "color1 + color2"
   ]
  },
  {
   "cell_type": "code",
   "execution_count": 36,
   "metadata": {},
   "outputs": [
    {
     "output_type": "execute_result",
     "data": {
      "text/plain": [
       "['red', 'green', 'blue', 'orange', 'black', 'white']"
      ]
     },
     "metadata": {},
     "execution_count": 36
    }
   ],
   "source": [
    "#새로운 값을 넣으려면 항상 새로운 변수에 넣어준다.\n",
    "totalcolor = color1 + color2\n",
    "totalcolor"
   ]
  },
  {
   "cell_type": "code",
   "execution_count": 40,
   "metadata": {},
   "outputs": [
    {
     "output_type": "execute_result",
     "data": {
      "text/plain": [
       "['red', 'green', 'blue', 'red', 'green', 'blue']"
      ]
     },
     "metadata": {},
     "execution_count": 40
    }
   ],
   "source": [
    "#반복\n",
    "color1 * 2"
   ]
  },
  {
   "cell_type": "code",
   "execution_count": 43,
   "metadata": {},
   "outputs": [
    {
     "output_type": "execute_result",
     "data": {
      "text/plain": [
       "(True, False)"
      ]
     },
     "metadata": {},
     "execution_count": 43
    }
   ],
   "source": [
    "#레드가 칼라1에 있는가, 레드가 칼라2에 있는가\n",
    "'red' in color1, 'red' in color2"
   ]
  },
  {
   "cell_type": "code",
   "execution_count": 44,
   "metadata": {},
   "outputs": [
    {
     "output_type": "execute_result",
     "data": {
      "text/plain": [
       "False"
      ]
     },
     "metadata": {},
     "execution_count": 44
    }
   ],
   "source": [
    "#not 부정\n",
    "'red' not in color1"
   ]
  },
  {
   "source": [
    "### - 리스트의 추가 및 삭제(다양한 메소드)"
   ],
   "cell_type": "markdown",
   "metadata": {}
  },
  {
   "source": [
    "##### 리스트 추가 및 삭제"
   ],
   "cell_type": "markdown",
   "metadata": {}
  },
  {
   "source": [
    "###### append()함수 : 새로운 값을 기존 리스트의 맨 끝에 추가"
   ],
   "cell_type": "markdown",
   "metadata": {}
  },
  {
   "cell_type": "code",
   "execution_count": 46,
   "metadata": {},
   "outputs": [
    {
     "output_type": "execute_result",
     "data": {
      "text/plain": [
       "['red', 'green', 'blue']"
      ]
     },
     "metadata": {},
     "execution_count": 46
    }
   ],
   "source": [
    "color = ['red','green','blue']\n",
    "color"
   ]
  },
  {
   "cell_type": "code",
   "execution_count": 47,
   "metadata": {},
   "outputs": [
    {
     "output_type": "execute_result",
     "data": {
      "text/plain": [
       "['red', 'green', 'blue', 'white']"
      ]
     },
     "metadata": {},
     "execution_count": 47
    }
   ],
   "source": [
    "color.append('white')\n",
    "color"
   ]
  },
  {
   "cell_type": "code",
   "execution_count": 49,
   "metadata": {},
   "outputs": [
    {
     "output_type": "execute_result",
     "data": {
      "text/plain": [
       "['H', 'e', 'l', 'l', 'o', ' ', 'W', 'o', 'r', 'l', 'd']"
      ]
     },
     "metadata": {},
     "execution_count": 49
    }
   ],
   "source": [
    "results = list() #emtpy list 생성\n",
    "for s in 'Hello World':\n",
    "    results.append(s)\n",
    "results"
   ]
  },
  {
   "cell_type": "code",
   "execution_count": 54,
   "metadata": {},
   "outputs": [
    {
     "output_type": "execute_result",
     "data": {
      "text/plain": [
       "['H', 'e', 'l', 'l', 'o', ' ', 'W', 'o', 'r', 'l', 'd']"
      ]
     },
     "metadata": {},
     "execution_count": 54
    }
   ],
   "source": [
    "x = [s for s in 'Hello World']\n",
    "x"
   ]
  },
  {
   "cell_type": "code",
   "execution_count": 52,
   "metadata": {},
   "outputs": [
    {
     "output_type": "execute_result",
     "data": {
      "text/plain": [
       "5050"
      ]
     },
     "metadata": {},
     "execution_count": 52
    }
   ],
   "source": [
    "sum = 0\n",
    "for i in range(101):\n",
    "    sum += i\n",
    "sum"
   ]
  },
  {
   "source": [
    "###### extend()함수 : 새로운 리스트를 기존 리스트에 추가"
   ],
   "cell_type": "markdown",
   "metadata": {}
  },
  {
   "cell_type": "code",
   "execution_count": 56,
   "metadata": {},
   "outputs": [
    {
     "output_type": "execute_result",
     "data": {
      "text/plain": [
       "['red', 'green', 'blue', 'white', ['black', 'white']]"
      ]
     },
     "metadata": {},
     "execution_count": 56
    }
   ],
   "source": [
    "#append를 사용해서 여러개를 하면 엉뚱하게 나옴\n",
    "color.append(['black','white'])\n",
    "color"
   ]
  },
  {
   "cell_type": "code",
   "execution_count": 69,
   "metadata": {},
   "outputs": [
    {
     "output_type": "execute_result",
     "data": {
      "text/plain": [
       "['red', 'green', 'blue', 'black', 'white']"
      ]
     },
     "metadata": {},
     "execution_count": 69
    }
   ],
   "source": [
    "#리스트를 펼쳐서 준다.\n",
    "color = ['red','green','blue']\n",
    "color.extend(['black','white'])\n",
    "color"
   ]
  },
  {
   "source": [
    "##### insert()함수 : 새로운 값을 기존 리스트의 맨 앞부분에 추가"
   ],
   "cell_type": "markdown",
   "metadata": {}
  },
  {
   "cell_type": "code",
   "execution_count": 70,
   "metadata": {},
   "outputs": [
    {
     "output_type": "execute_result",
     "data": {
      "text/plain": [
       "['orange', 'red', 'green', 'blue', 'black', 'white']"
      ]
     },
     "metadata": {},
     "execution_count": 70
    }
   ],
   "source": [
    "color.insert(0,'orange')\n",
    "color"
   ]
  },
  {
   "source": [
    "##### renove()함수 : 추가 한 것 없애는거"
   ],
   "cell_type": "markdown",
   "metadata": {}
  },
  {
   "cell_type": "code",
   "execution_count": 71,
   "metadata": {},
   "outputs": [
    {
     "output_type": "execute_result",
     "data": {
      "text/plain": [
       "['red', 'green', 'blue', 'black', 'white']"
      ]
     },
     "metadata": {},
     "execution_count": 71
    }
   ],
   "source": [
    "color.remove('orange')\n",
    "color"
   ]
  },
  {
   "cell_type": "code",
   "execution_count": 72,
   "metadata": {},
   "outputs": [
    {
     "output_type": "execute_result",
     "data": {
      "text/plain": [
       "['red', 'green', 'blue', 'black']"
      ]
     },
     "metadata": {},
     "execution_count": 72
    }
   ],
   "source": [
    "# 마지막 것 없애는 거\n",
    "color.remove(color[-1])\n",
    "color"
   ]
  },
  {
   "cell_type": "code",
   "execution_count": 73,
   "metadata": {},
   "outputs": [
    {
     "output_type": "execute_result",
     "data": {
      "text/plain": [
       "['red', 'green', 'blue']"
      ]
     },
     "metadata": {},
     "execution_count": 73
    }
   ],
   "source": [
    "#메쏘드가 아닌 명령어로 지우는 법\n",
    "del color[-1]\n",
    "color"
   ]
  },
  {
   "source": [
    "#### - 리스트 element의 값 변경"
   ],
   "cell_type": "markdown",
   "metadata": {}
  },
  {
   "cell_type": "code",
   "execution_count": 75,
   "metadata": {},
   "outputs": [
    {
     "output_type": "execute_result",
     "data": {
      "text/plain": [
       "['red', 'green', 'puple']"
      ]
     },
     "metadata": {},
     "execution_count": 75
    }
   ],
   "source": [
    "#2번에 있는값(3번째) 변경\n",
    "color[2] = 'puple'\n",
    "color"
   ]
  },
  {
   "source": [
    "##### sort()함수 : 정렬"
   ],
   "cell_type": "markdown",
   "metadata": {}
  },
  {
   "cell_type": "code",
   "execution_count": 83,
   "metadata": {},
   "outputs": [
    {
     "output_type": "execute_result",
     "data": {
      "text/plain": [
       "['red', 'puple', 'green']"
      ]
     },
     "metadata": {},
     "execution_count": 83
    }
   ],
   "source": [
    "color"
   ]
  },
  {
   "cell_type": "code",
   "execution_count": 81,
   "metadata": {},
   "outputs": [
    {
     "output_type": "execute_result",
     "data": {
      "text/plain": [
       "['green', 'puple', 'red']"
      ]
     },
     "metadata": {},
     "execution_count": 81
    }
   ],
   "source": [
    "#올림차순(ascending order)이 기본\n",
    "color.sort()\n",
    "color"
   ]
  },
  {
   "cell_type": "code",
   "execution_count": 82,
   "metadata": {},
   "outputs": [
    {
     "output_type": "execute_result",
     "data": {
      "text/plain": [
       "['red', 'puple', 'green']"
      ]
     },
     "metadata": {},
     "execution_count": 82
    }
   ],
   "source": [
    "#내림차순(descending order)이 기본\n",
    "color.sort(reverse= True)\n",
    "color"
   ]
  },
  {
   "source": [
    "#### - 패킹,언패킹 packing, unpacking"
   ],
   "cell_type": "markdown",
   "metadata": {}
  },
  {
   "cell_type": "code",
   "execution_count": 86,
   "metadata": {},
   "outputs": [
    {
     "output_type": "execute_result",
     "data": {
      "text/plain": [
       "(1, 2, 3)"
      ]
     },
     "metadata": {},
     "execution_count": 86
    }
   ],
   "source": [
    "t = [1,2,3] #리스트의 값\n",
    "a,b,c = t   #리스트 언패킹\n",
    "a,b,c       #튜플 패킹"
   ]
  },
  {
   "source": [
    "### 2차원 리스트"
   ],
   "cell_type": "markdown",
   "metadata": {}
  },
  {
   "cell_type": "code",
   "execution_count": 89,
   "metadata": {},
   "outputs": [
    {
     "output_type": "execute_result",
     "data": {
      "text/plain": [
       "[[49, 79, 29, 100, 80], [43, 59, 85, 30, 90], [49, 79, 48, 60, 100]]"
      ]
     },
     "metadata": {},
     "execution_count": 89
    }
   ],
   "source": [
    "kor = [49,79,29,100,80]\n",
    "mat = [43,59,85,30, 90]\n",
    "eng = [49,79,48,60,100]\n",
    "score = [kor, mat, eng]\n",
    "score"
   ]
  },
  {
   "cell_type": "code",
   "execution_count": 90,
   "metadata": {},
   "outputs": [
    {
     "output_type": "execute_result",
     "data": {
      "text/plain": [
       "[49, 79, 29, 100, 80]"
      ]
     },
     "metadata": {},
     "execution_count": 90
    }
   ],
   "source": [
    "score[0]"
   ]
  },
  {
   "cell_type": "code",
   "execution_count": 91,
   "metadata": {},
   "outputs": [
    {
     "output_type": "execute_result",
     "data": {
      "text/plain": [
       "30"
      ]
     },
     "metadata": {},
     "execution_count": 91
    }
   ],
   "source": [
    "#[행 인덱스][열 인덱스]\n",
    "score[1][3]"
   ]
  },
  {
   "cell_type": "code",
   "execution_count": 95,
   "metadata": {},
   "outputs": [
    {
     "output_type": "execute_result",
     "data": {
      "text/plain": [
       "[[43, 59, 85, 30, 90], [49, 79, 48, 60, 100]]"
      ]
     },
     "metadata": {},
     "execution_count": 95
    }
   ],
   "source": [
    "#1부터 끝까지\n",
    "score[1:]"
   ]
  },
  {
   "cell_type": "code",
   "execution_count": 93,
   "metadata": {},
   "outputs": [
    {
     "output_type": "execute_result",
     "data": {
      "text/plain": [
       "[]"
      ]
     },
     "metadata": {},
     "execution_count": 93
    }
   ],
   "source": [
    "#이럼 안됨\n",
    "score[1:][2:]"
   ]
  },
  {
   "cell_type": "code",
   "execution_count": 94,
   "metadata": {},
   "outputs": [
    {
     "output_type": "execute_result",
     "data": {
      "text/plain": [
       "[[49, 79, 29, 100, 80], [43, 59, 85, 30, 90], [49, 79, 48, 60, 100]]"
      ]
     },
     "metadata": {},
     "execution_count": 94
    }
   ],
   "source": [
    "# :만있음 all\n",
    "score[:]"
   ]
  },
  {
   "source": [],
   "cell_type": "markdown",
   "metadata": {}
  },
  {
   "cell_type": "code",
   "execution_count": null,
   "metadata": {},
   "outputs": [],
   "source": [
    "끝"
   ]
  }
 ]
}