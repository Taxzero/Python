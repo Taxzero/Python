{
 "metadata": {
  "language_info": {
   "codemirror_mode": {
    "name": "ipython",
    "version": 3
   },
   "file_extension": ".py",
   "mimetype": "text/x-python",
   "name": "python",
   "nbconvert_exporter": "python",
   "pygments_lexer": "ipython3",
   "version": "3.8.5"
  },
  "orig_nbformat": 2,
  "kernelspec": {
   "name": "python385jvsc74a57bd0c81169c30fb96244cfba0db287a0d3fd5325268de070a7a6116eecd4596df902",
   "display_name": "Python 3.8.5 64-bit ('base': conda)"
  }
 },
 "nbformat": 4,
 "nbformat_minor": 2,
 "cells": [
  {
   "source": [
    "### 구구단 계산기"
   ],
   "cell_type": "markdown",
   "metadata": {}
  },
  {
   "cell_type": "code",
   "execution_count": 2,
   "metadata": {},
   "outputs": [
    {
     "output_type": "stream",
     "name": "stdout",
     "text": [
      "6 x 1 = 6\n6 x 2 = 12\n6 x 3 = 18\n6 x 4 = 24\n6 x 5 = 30\n6 x 6 = 36\n6 x 7 = 42\n6 x 8 = 48\n6 x 9 = 54\n"
     ]
    }
   ],
   "source": [
    "# 구구단 6단\n",
    "n = 6\n",
    "for i in range(1, 10):\n",
    "    print(f'{n} x {i} = {n*i}')"
   ]
  },
  {
   "source": [
    "### 문자열 역순 출력"
   ],
   "cell_type": "markdown",
   "metadata": {}
  },
  {
   "cell_type": "code",
   "execution_count": 3,
   "metadata": {},
   "outputs": [
    {
     "output_type": "stream",
     "name": "stdout",
     "text": [
      "Hello World - dlroW olleH\n"
     ]
    }
   ],
   "source": [
    "sentence = input()\n",
    "reverse_sentence = ''\n",
    "for char in sentence:\n",
    "    reverse_sentence = char + reverse_sentence\n",
    "print(sentence, '-', reverse_sentence)"
   ]
  },
  {
   "source": [
    "### 십진수를 이진수로 변환"
   ],
   "cell_type": "markdown",
   "metadata": {}
  },
  {
   "cell_type": "code",
   "execution_count": 4,
   "metadata": {},
   "outputs": [
    {
     "output_type": "stream",
     "name": "stdout",
     "text": [
      "10100\n"
     ]
    }
   ],
   "source": [
    "num = 20           #십진수 값\n",
    "answer = ''        #이진수 값을 저장할 null string\n",
    "while num > 0:\n",
    "    reainder = num % 2 #나머지\n",
    "    num = num // 2 #몫\n",
    "    answer = str(reainder) + answer\n",
    "print(answer)"
   ]
  },
  {
   "source": [
    "## 숫자 찾기 게임"
   ],
   "cell_type": "markdown",
   "metadata": {}
  },
  {
   "cell_type": "code",
   "execution_count": 19,
   "metadata": {},
   "outputs": [],
   "source": [
    "import random\n",
    "random_number = random.randint(1,100)"
   ]
  },
  {
   "cell_type": "code",
   "execution_count": 24,
   "metadata": {},
   "outputs": [
    {
     "output_type": "error",
     "ename": "IndentationError",
     "evalue": "expected an indented block (<ipython-input-24-62c4d5eb8400>, line 5)",
     "traceback": [
      "\u001b[1;36m  File \u001b[1;32m\"<ipython-input-24-62c4d5eb8400>\"\u001b[1;36m, line \u001b[1;32m5\u001b[0m\n\u001b[1;33m    print(f\"빙고. 정답은 {guess}!!!\")\u001b[0m\n\u001b[1;37m    ^\u001b[0m\n\u001b[1;31mIndentationError\u001b[0m\u001b[1;31m:\u001b[0m expected an indented block\n"
     ]
    }
   ],
   "source": [
    "while True:\n",
    "    guess =int(input('1~100 숫자입력'))\n",
    "\n",
    "    if guess == random_number:\n",
    "    print(f\"빙고. 정답은 {guess}!!!\")\n",
    "    break\n",
    "\n",
    "if guess > random_number:\n",
    "    print(f\"입력한 숫자 {guess} 가 너무 크다\")\n",
    "\n",
    "else:\n",
    "    print(f\"입력한 숫자 {guess} 가 너무 작다\")"
   ]
  },
  {
   "source": [
    "### 별표 그리기"
   ],
   "cell_type": "markdown",
   "metadata": {}
  },
  {
   "cell_type": "code",
   "execution_count": 39,
   "metadata": {},
   "outputs": [
    {
     "output_type": "stream",
     "name": "stdout",
     "text": [
      "*\n**\n***\n****\n*****\n"
     ]
    }
   ],
   "source": [
    "for i in range(1,6):\n",
    "    for k in range(i):\n",
    "        print('*', sep='', end='')\n",
    "    print()"
   ]
  },
  {
   "cell_type": "code",
   "execution_count": 40,
   "metadata": {},
   "outputs": [
    {
     "output_type": "stream",
     "name": "stdout",
     "text": [
      "*****\n ****\n  ***\n   **\n    *\n"
     ]
    }
   ],
   "source": [
    "for i in range(1,6):\n",
    "    for k in range(1,i):\n",
    "        print(' ', sep='', end='')\n",
    "    for k in range(5-i+1):\n",
    "        print('*', sep='', end='')\n",
    "    print()"
   ]
  },
  {
   "cell_type": "code",
   "execution_count": null,
   "metadata": {},
   "outputs": [],
   "source": []
  }
 ]
}