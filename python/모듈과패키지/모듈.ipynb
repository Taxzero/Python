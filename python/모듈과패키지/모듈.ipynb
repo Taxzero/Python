{
 "metadata": {
  "language_info": {
   "codemirror_mode": {
    "name": "ipython",
    "version": 3
   },
   "file_extension": ".py",
   "mimetype": "text/x-python",
   "name": "python",
   "nbconvert_exporter": "python",
   "pygments_lexer": "ipython3",
   "version": "3.8.5"
  },
  "orig_nbformat": 2,
  "kernelspec": {
   "name": "python385jvsc74a57bd0c81169c30fb96244cfba0db287a0d3fd5325268de070a7a6116eecd4596df902",
   "display_name": "Python 3.8.5 64-bit ('base': conda)"
  }
 },
 "nbformat": 4,
 "nbformat_minor": 2,
 "cells": [
  {
   "source": [
    "# 모듈과 패키지"
   ],
   "cell_type": "markdown",
   "metadata": {}
  },
  {
   "source": [
    "#### 모듈 만들기"
   ],
   "cell_type": "markdown",
   "metadata": {}
  },
  {
   "cell_type": "code",
   "execution_count": 8,
   "metadata": {},
   "outputs": [],
   "source": [
    "def convert_c2f(celcius_value):\n",
    "    return celcius_value * 9. / 5 + 32"
   ]
  },
  {
   "cell_type": "code",
   "execution_count": 9,
   "metadata": {},
   "outputs": [
    {
     "output_type": "stream",
     "name": "stdout",
     "text": [
      "섭씨온도: 17.0, 화씨온도 : 62.6\n"
     ]
    }
   ],
   "source": [
    "celcius = float(input('섭씨온도'))\n",
    "fahrenheit = convert_c2f(celcius)\n",
    "print(f'섭씨온도: {celcius:.1f}, 화씨온도 : {fahrenheit:.1f}')"
   ]
  },
  {
   "cell_type": "code",
   "execution_count": 12,
   "metadata": {},
   "outputs": [
    {
     "output_type": "stream",
     "name": "stdout",
     "text": [
      "섭씨온도: 17.0, 화씨온도 : 50.8\n"
     ]
    }
   ],
   "source": [
    "import module\n",
    "\n",
    "celcius = float(input('섭씨온도'))\n",
    "fahrenheit = module.convert_c2f_m(celcius)\n",
    "print(f'섭씨온도: {celcius:.1f}, 화씨온도 : {fahrenheit:.1f}')"
   ]
  },
  {
   "cell_type": "code",
   "execution_count": 13,
   "metadata": {},
   "outputs": [
    {
     "output_type": "stream",
     "name": "stdout",
     "text": [
      "섭씨온도: 19.0, 화씨온도 : 52.8\n"
     ]
    }
   ],
   "source": [
    "import module as m1 #as = alias 축약명칭\n",
    "\n",
    "celcius = float(input('섭씨온도'))\n",
    "fahrenheit = module.convert_c2f_m(celcius)\n",
    "print(f'섭씨온도: {celcius:.1f}, 화씨온도 : {fahrenheit:.1f}')"
   ]
  },
  {
   "cell_type": "code",
   "execution_count": 14,
   "metadata": {},
   "outputs": [
    {
     "output_type": "stream",
     "name": "stdout",
     "text": [
      "섭씨온도: 17.0, 화씨온도 : 50.8\n"
     ]
    }
   ],
   "source": [
    " from module import convert_c2f_m\n",
    "\n",
    "celcius = float(input('섭씨온도'))\n",
    "fahrenheit = convert_c2f_m(celcius)\n",
    "print(f'섭씨온도: {celcius:.1f}, 화씨온도 : {fahrenheit:.1f}')"
   ]
  },
  {
   "cell_type": "code",
   "execution_count": 16,
   "metadata": {},
   "outputs": [
    {
     "output_type": "error",
     "ename": "NameError",
     "evalue": "name 'convert_f2c_m' is not defined",
     "traceback": [
      "\u001b[1;31m---------------------------------------------------------------------------\u001b[0m",
      "\u001b[1;31mNameError\u001b[0m                                 Traceback (most recent call last)",
      "\u001b[1;32m<ipython-input-16-be396bb76a7d>\u001b[0m in \u001b[0;36m<module>\u001b[1;34m\u001b[0m\n\u001b[0;32m      2\u001b[0m \u001b[1;33m\u001b[0m\u001b[0m\n\u001b[0;32m      3\u001b[0m \u001b[0mfahrenheit\u001b[0m \u001b[1;33m=\u001b[0m \u001b[0mfloat\u001b[0m\u001b[1;33m(\u001b[0m\u001b[0minput\u001b[0m\u001b[1;33m(\u001b[0m\u001b[1;34m'화씨온도'\u001b[0m\u001b[1;33m)\u001b[0m\u001b[1;33m)\u001b[0m\u001b[1;33m\u001b[0m\u001b[1;33m\u001b[0m\u001b[0m\n\u001b[1;32m----> 4\u001b[1;33m \u001b[0mcelcius\u001b[0m \u001b[1;33m=\u001b[0m \u001b[0mconvert_f2c_m\u001b[0m\u001b[1;33m(\u001b[0m\u001b[0mfahrenheit\u001b[0m\u001b[1;33m)\u001b[0m\u001b[1;33m\u001b[0m\u001b[1;33m\u001b[0m\u001b[0m\n\u001b[0m\u001b[0;32m      5\u001b[0m \u001b[0mprint\u001b[0m\u001b[1;33m(\u001b[0m\u001b[1;34mf'화씨온도 : {fahrenheit:.1f}, 섭씨온도: {celcius:.1f}'\u001b[0m\u001b[1;33m)\u001b[0m\u001b[1;33m\u001b[0m\u001b[1;33m\u001b[0m\u001b[0m\n",
      "\u001b[1;31mNameError\u001b[0m: name 'convert_f2c_m' is not defined"
     ]
    }
   ],
   "source": [
    "from module import *\n",
    "\n",
    "fahrenheit = float(input('화씨온도'))\n",
    "celcius = convert_f2c_m(fahrenheit)\n",
    "print(f'화씨온도 : {fahrenheit:.1f}, 섭씨온도: {celcius:.1f}')"
   ]
  },
  {
   "cell_type": "code",
   "execution_count": 17,
   "metadata": {},
   "outputs": [
    {
     "output_type": "error",
     "ename": "ModuleNotFoundError",
     "evalue": "No module named 'module.module'; 'module' is not a package",
     "traceback": [
      "\u001b[1;31m---------------------------------------------------------------------------\u001b[0m",
      "\u001b[1;31mModuleNotFoundError\u001b[0m                       Traceback (most recent call last)",
      "\u001b[1;32m<ipython-input-17-310963372959>\u001b[0m in \u001b[0;36m<module>\u001b[1;34m\u001b[0m\n\u001b[1;32m----> 1\u001b[1;33m \u001b[1;32mimport\u001b[0m \u001b[0mmodule\u001b[0m\u001b[1;33m.\u001b[0m\u001b[0mmodule\u001b[0m \u001b[1;32mas\u001b[0m \u001b[0mmm1\u001b[0m\u001b[1;33m\u001b[0m\u001b[1;33m\u001b[0m\u001b[0m\n\u001b[0m\u001b[0;32m      2\u001b[0m \u001b[0mmm1\u001b[0m\u001b[1;33m.\u001b[0m\u001b[0mconvert_f2c_m\u001b[0m\u001b[1;33m(\u001b[0m\u001b[1;36m100.\u001b[0m\u001b[1;33m)\u001b[0m\u001b[1;33m\u001b[0m\u001b[1;33m\u001b[0m\u001b[0m\n",
      "\u001b[1;31mModuleNotFoundError\u001b[0m: No module named 'module.module'; 'module' is not a package"
     ]
    }
   ],
   "source": [
    "import module.module as mm1\n",
    "mm1.convert_f2c_m(100.)"
   ]
  },
  {
   "source": [
    "#### 내장모듈"
   ],
   "cell_type": "markdown",
   "metadata": {}
  },
  {
   "cell_type": "code",
   "execution_count": 20,
   "metadata": {},
   "outputs": [
    {
     "output_type": "execute_result",
     "data": {
      "text/plain": [
       "(0.8363375023320742, 180)"
      ]
     },
     "metadata": {},
     "execution_count": 20
    }
   ],
   "source": [
    "import random\n",
    "random.seed(2021)\n",
    "random.random(), random.randint(100,200)"
   ]
  },
  {
   "cell_type": "code",
   "execution_count": null,
   "metadata": {},
   "outputs": [],
   "source": []
  }
 ]
}