{
 "metadata": {
  "language_info": {
   "codemirror_mode": {
    "name": "ipython",
    "version": 3
   },
   "file_extension": ".py",
   "mimetype": "text/x-python",
   "name": "python",
   "nbconvert_exporter": "python",
   "pygments_lexer": "ipython3",
   "version": "3.8.5"
  },
  "orig_nbformat": 2,
  "kernelspec": {
   "name": "python385jvsc74a57bd0c81169c30fb96244cfba0db287a0d3fd5325268de070a7a6116eecd4596df902",
   "display_name": "Python 3.8.5 64-bit ('base': conda)"
  }
 },
 "nbformat": 4,
 "nbformat_minor": 2,
 "cells": [
  {
   "source": [
    "# 로또 만들기"
   ],
   "cell_type": "markdown",
   "metadata": {}
  },
  {
   "source": [
    "# 1~45중 6개 랜덤으로 뽑아서 출력하기\n",
    "\n",
    "import random\n",
    "a = random.sample(range(1,46),6)\n",
    "a.sort()\n",
    "print(a)\n",
    "\n",
    "#당청번호, 보너스 번호 입력하기\n",
    "\n",
    "lotto = list(map(int,input(\"당청번호\").split()))\n",
    "lotto_bonus = list(map(int,input(\"당청번호\").split()))\n",
    "print(lotto)\n",
    "print(lotto_bonus)\n",
    "\n",
    "# 당첨번호 비교하기\n",
    "\n",
    "point = 0\n",
    "for i in range(0,len(a)):\n",
    "    for j in range(0,len(lotto)):\n",
    "        if a[i] == lotto[j]:\n",
    "            point += 1\n",
    "\n",
    "point2 = 0\n",
    "for i in range(0,len(a)):\n",
    "    if a[i] == lotto_bonus:\n",
    "        point2 = 1\n",
    "print(point,point2)\n",
    "\n",
    "# 당첨 번호 조건\n",
    "\n",
    "if point == 3:\n",
    "    print('5등')\n",
    "elif point == 4:\n",
    "    print('4등')\n",
    "elif point == 5 and (point2 == 0):\n",
    "    print('3등')\n",
    "elif point == 5 and (point2 == 1):\n",
    "    print('2등')\n",
    "elif point == 6:\n",
    "    print('1등')\n",
    "else: print('꽝')"
   ],
   "cell_type": "code",
   "metadata": {},
   "execution_count": 7,
   "outputs": [
    {
     "output_type": "stream",
     "name": "stdout",
     "text": [
      "[1, 10, 16, 26, 37, 38]\n",
      "[1, 10, 16, 26, 37, 40]\n",
      "[38]\n",
      "5 0\n",
      "3등\n"
     ]
    }
   ]
  }
 ]
}